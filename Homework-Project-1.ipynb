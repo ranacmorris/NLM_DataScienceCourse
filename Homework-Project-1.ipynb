{
 "cells": [
  {
   "cell_type": "markdown",
   "metadata": {},
   "source": [
    "<img src=\"http://imgur.com/1ZcRyrc.png\" style=\"float: left; margin: 20px; height: 55px\">\n",
    "\n",
    "# Project 1: Python Coding Exercises\n",
    "<br><br>\n",
    "_Author: Joseph Nelson (DC) _\n",
    "\n",
    "---\n",
    "\n",
    "### Due Date: 7/11/19 before class\n",
    "\n",
    "#### To Submit:\n",
    "Please fork this repo to your personal page. Solve the exercises in the blank cells provided and push."
   ]
  },
  {
   "cell_type": "markdown",
   "metadata": {},
   "source": [
    "The following code challenges are drawn from common exercises used in technical interviews.\n",
    "\n",
    "Please note that there may be several ways to approach each challenge. If you get stuck, try mapping out your approach in pseudocode first. Finally, while solutions to problems like these may be found online, remember that if you copy/paste code that you can't explain, you'll be missing out on the point of the project. The only way to truly learn a new skill is through practice, trial, and error - we can only help you improve by understanding where you are having trouble."
   ]
  },
  {
   "cell_type": "markdown",
   "metadata": {},
   "source": [
    "### Challenge 1: Largest Palindrome\n",
    "A palindromic number reads the same both ways. For example, 1234321 is a palindrome. The largest palindrome made from the product of two two-digit numbers is 9009 = 91 × 99. Find the largest palindrome made from the product of two three-digit numbers. Afterward, write a brief explanation walking through your code's logic in markdown."
   ]
  },
  {
   "cell_type": "code",
   "execution_count": 1,
   "metadata": {
    "collapsed": true
   },
   "outputs": [
    {
     "name": "stdout",
     "output_type": "stream",
     "text": [
      "The largest palindrome created as a product from two triple-digit numbers is 906609 .\n"
     ]
    }
   ],
   "source": [
    "PalindromeSet = set()\n",
    "\n",
    "# A loop to iterate A & B (from 100 to 999 - fixed for the \"1-off issue\"), generate the product, reverse it, determine if they are palindromes, and if so save it to the PalindromeSet.\n",
    "for A in range (101, 1000):\n",
    "    for B in range (101, 1000):\n",
    "        Product = A * B                                     # Create the Product     \n",
    "        Product_string = str(Product)                       # Convert the product to a string.\n",
    "        ReversedProduct_string = (Product_string)[::-1]     # Reverse the digits in the string.\n",
    "        ReversedProduct = int(ReversedProduct_string)       # Convert the Product back to an integer.\n",
    "        \n",
    "        if Product == ReversedProduct:                      # Compare the Product and the converted/inverted/converted Product to see if they match - are palindromes.\n",
    "            PalindromeSet.add(Product)                      # If they do match, add it to the PalindromeSet.\n",
    "\n",
    "print('The largest palindrome created as a product from two triple-digit numbers is', max(PalindromeSet), '.')"
   ]
  },
  {
   "cell_type": "markdown",
   "metadata": {},
   "source": [
    "### Here's what I did ###\n",
    "- I created an empty PalindromeSet to hold the calculated, tested palindromes.\n",
    "- I iterated values of A & B from 100 to 999 (fixed for the \"1-off issue\").\n",
    "- I multiplied all values of A & B to create the Product.\n",
    "- Then I converted the Product to a string, reversed the digits in the string, converted the Product back to an integer and saved that to ReversedProduct.\n",
    "- Finally, I compared the Product and the ReversedProduct to see if they match - are palindromes, then added that to the PalindromeSet.\n",
    "- Finally, I took the list of palindromed in the PalindromeSet and found the \"max\" one and printed it out (with some extra text to make it human-readible)."
   ]
  },
  {
   "cell_type": "markdown",
   "metadata": {},
   "source": [
    "\n",
    "### Challenge 2: Summation of Primes\n",
    "The sum of the primes below 10 is 2 + 3 + 5 + 7 = 17. Find the sum of all the primes below 2,000. Afterward, write a brief explanation walking through your code's logic in markdown."
   ]
  },
  {
   "cell_type": "code",
   "execution_count": 2,
   "metadata": {
    "collapsed": true
   },
   "outputs": [
    {
     "name": "stdout",
     "output_type": "stream",
     "text": [
      "The sum of all prime numbers under 2,000 is 277050 .\n"
     ]
    }
   ],
   "source": [
    "Sum = 0\n",
    "Primes = [2, 3, 5, 7, 11, 13, 17, 19, 23, 29, 31, 37, 41, 43, 47, 53, 59, 61, 67, 71, 73, 79, 83, 89, 97, 101, 103, 107, 109, 113, 127, 131, 137, 139, 149, 151, 157, 163, 167, 173, 179, 181, 191, 193, 197, 199, 211, 223, 227, 229, 233, 239, 241, 251, 257, 263, 269, 271, 277, 281, 283, 293, 307, 311, 313, 317, 331, 337, 347, 349, 353, 359, 367, 373, 379, 383, 389, 397, 401, 409, 419, 421, 431, 433, 439, 443, 449, 457, 461, 463, 467, 479, 487, 491, 499, 503, 509, 521, 523, 541, 547, 557, 563, 569, 571, 577, 587, 593, 599, 601, 607, 613, 617, 619, 631, 641, 643, 647, 653, 659, 661, 673, 677, 683, 691, 701, 709, 719, 727, 733, 739, 743, 751, 757, 761, 769, 773, 787, 797, 809, 811, 821, 823, 827, 829, 839, 853, 857, 859, 863, 877, 881, 883, 887, 907, 911, 919, 929, 937, 941, 947, 953, 967, 971, 977, 983, 991, 997, 1009, 1013, 1019, 1021, 1031, 1033, 1039, 1049, 1051, 1061, 1063, 1069, 1087, 1091, 1093, 1097, 1103, 1109, 1117, 1123, 1129, 1151, 1153, 1163, 1171, 1181, 1187, 1193, 1201, 1213, 1217, 1223, 1229, 1231, 1237, 1249, 1259, 1277, 1279, 1283, 1289, 1291, 1297, 1301, 1303, 1307, 1319, 1321, 1327, 1361, 1367, 1373, 1381, 1399, 1409, 1423, 1427, 1429, 1433, 1439, 1447, 1451, 1453, 1459, 1471, 1481, 1483, 1487, 1489, 1493, 1499, 1511, 1523, 1531, 1543, 1549, 1553, 1559, 1567, 1571, 1579, 1583, 1597, 1601, 1607, 1609, 1613, 1619, 1621, 1627, 1637, 1657, 1663, 1667, 1669, 1693, 1697, 1699, 1709, 1721, 1723, 1733, 1741, 1747, 1753, 1759, 1777, 1783, 1787, 1789, 1801, 1811, 1823, 1831, 1847, 1861, 1867, 1871, 1873, 1877, 1879, 1889, 1901, 1907, 1913, 1931, 1933, 1949, 1951, 1973, 1979, 1987, 1993, 1997, 1999]\n",
    "\n",
    "# Addition loop to add each prime in the Primes set to the Sum variable.\n",
    "for prime in Primes:\n",
    "    Sum = Sum + prime\n",
    "\n",
    "print ('The sum of all prime numbers under 2,000 is', Sum, \".\")"
   ]
  },
  {
   "cell_type": "markdown",
   "metadata": {},
   "source": [
    "### Here's what I did ###\n",
    "- Since, you didn't specify we had to generate the prime list, I created a list from: https://www.miniwebtool.com/list-of-prime-numbers/?to=2000.\n",
    "- I created a variable (Sum) with a base value of zero to add to.\n",
    "- I created an addition loop to add each prime in the Primes set to the Sum variable.\n",
    "- I then printed the sum out (with some extra text to make it human-readible)."
   ]
  },
  {
   "cell_type": "markdown",
   "metadata": {},
   "source": [
    "### Challenge 3: Multiples of 3 or 5\n",
    "If we list all of the natural numbers below 10 that are multiples of 3 or 5, we get 3, 5, 6, and 9. The sum of these multiples is 23. Find the sum of all the multiples of 3 or 5 below 1,000. Afterward, write a brief explanation walking through your code's logic in markdown."
   ]
  },
  {
   "cell_type": "code",
   "execution_count": 2,
   "metadata": {
    "collapsed": true
   },
   "outputs": [
    {
     "name": "stdout",
     "output_type": "stream",
     "text": [
      "The sum of all multiples of 3 or 5 under 1,000 is 234168 .\n"
     ]
    }
   ],
   "source": [
    "# Create a MultiplesSets to hold the list of values evenly divided by 3 or 5.\n",
    "ThreeMultiples = set()\n",
    "FiveMultiples = set ()\n",
    "\n",
    "# A loop to iterate A from 2 to 1001 (a fix for the \"1-off issue\"), and test for even division by 3 or 5 - with adding the True values to the appropriate set.\n",
    "for A in range (2, 1001):                # Iterate A from 1 to 1,000 (fixed for the \"1-off issue\")\n",
    "    if A % 3 == 0:\n",
    "        ThreeMultiples.add(A)            # If A is evenly divisible by 3, add it to the ThreeMultiples set.\n",
    "    elif A % 5 == 0:\n",
    "        FiveMultiples.add(A)             # If A is evenly divisible by 3, add it to the ThreeMultiples set.\n",
    "\n",
    "print('The sum of all multiples of 3 or 5 under 1,000 is',(sum(ThreeMultiples) + sum(FiveMultiples)), '.')"
   ]
  },
  {
   "cell_type": "markdown",
   "metadata": {},
   "source": [
    "### Here's what I did ###\n",
    "- I created two empty sets to hold the list of values evenly divided by 3 (ThreeMultiples) or 5 (FiveMultiples).\n",
    "- I created a loop, iterating A from 1 to 1,000 (fixed for the \"1-off issue\"), and then set up sequential tests to see if it was it was evenly divisible by 3, and if so to add it to the ThreeMultiples set OR evenly divisible by 5, and if so to add it to the FiveMultiples set.\n",
    "- Then, I added up all values in ThreeMultiples and FiveMultiples sets and printed it (with some extra text to make it human-readible)."
   ]
  },
  {
   "cell_type": "markdown",
   "metadata": {},
   "source": [
    "### Challenge 4: String Compressor\n",
    "Implement a method to perform basic string compression using the counts of repeated characters. (This is called run-length encoding.) For example, the string \"aabcccccaaa\" would become a2b1c5a3. If the “compressed” string would not become smaller than the original string, your method should return the original string. You can assume the string has only uppercase and lowercase letters (a–z). Specify whether your solution is case sensitive or case insensitive and what you would need to change to make it the other. Afterward, write a brief explanation walking through your code's logic in markdown."
   ]
  },
  {
   "cell_type": "code",
   "execution_count": 3,
   "metadata": {
    "collapsed": true
   },
   "outputs": [
    {
     "name": "stdout",
     "output_type": "stream",
     "text": [
      "a3b1c6a3\n"
     ]
    }
   ],
   "source": [
    "# Un-comment your choice of input string:\n",
    "string = \"aabcccccaaa\"\n",
    "# string = \"aAAbccCCCCaaa\"\n",
    "# string = \"aabccaa\"\n",
    "\n",
    "# If you want this to be case *in*sensitive.....un-comment the next line.\n",
    "# string = string.lower()\n",
    "\n",
    "compressedstring = \"\"\n",
    "count = 1\n",
    "\n",
    "# A loop to iterate through and count repetative characters, with the addition of the character and the count to the \"compressedstring\" variable.\n",
    "for i in range(1, len(string)):                            # If a letter is equivalent to the previous letter, then increase its count by 1.\n",
    "    if string[i] == string[i-1]:\n",
    "        count = count + 1                                  # Append the letter with its count (as a string) to the variable \"compressedstring\". \n",
    "    else:\n",
    "        compressedstring += (string[i-1] +str(count))\n",
    "        count = 1                                          # Reset the counter to 1.\n",
    "compressedstring += (string[i] +str(count))                # Finish appending the last letter with its count.\n",
    "        \n",
    "# Check the length of the original string vs. the compressed string.\n",
    "if len(compressedstring) > len(string):\n",
    "    print(string)                                          # If the \"compressedstring\" is longer, print the shorter \"string\".\n",
    "else:\n",
    "    print(compressedstring)                                # Otherwise print the shorter \"compressedstring\"."
   ]
  },
  {
   "cell_type": "markdown",
   "metadata": {},
   "source": [
    "### Here's what I did ###\n",
    "- I created a set of test strings that you can uncomment out to test different outcomes (example string-\"aabcccccaaa\", case-sensitive string-\"aAAbccCCCCaaa\", shorter than compressed-\"aabccaa\")\n",
    "- The code is case sensitive, so if you prefer otherwise - you can uncomment out a line to get rid of the different cases.\n",
    "- I created a variable to store the compressed string in and set the initial counter to 1.\n",
    "- I created a loop to check for sequential repetitions of each letter with a counter to keep track of the number until it the next is no longer the same - and then it will append the letter with its count (as a string) to the variable \"compressedstring\", and reset the counter to 1.\n",
    "- After the last loop, the the final letter with its count (as a string) will be added to the \"compressedstring\".\n",
    "- A quick check to see if the compressedstring is shorter than the original, then the shorter one will be printed out."
   ]
  },
  {
   "cell_type": "markdown",
   "metadata": {},
   "source": [
    "### (Optional.) Challenge 5: FizzBuzz\n",
    "Write a program that prints all of the numbers from 1 to 100. For multiples of 3, instead of the number, print \"Fizz;\" for multiples of 5, print \"Buzz.\" For numbers that are multiples of both 3 and 5, print \"FizzBuzz.\" Afterward, write a brief explanation walking through your code's logic in markdown."
   ]
  },
  {
   "cell_type": "code",
   "execution_count": null,
   "metadata": {
    "collapsed": true
   },
   "outputs": [],
   "source": [
    "# A loop to iterate and test each number from 0 to 100 (fixed for the \"1-off issue\").\n",
    "for num in range(1,101):\n",
    "    if num % 3 == 0 and num % 5 == 0:       # If the number is evenly divisible by 3 & by 5 (=0) - it is True.\n",
    "        print('fizzbuzz')                   # If the above is True, print fizzbuz.\n",
    "    elif num % 3 == 0:                      # If the number (not evenly divisible by 3 & 5) is evenly divisible by 3 (=0) - it is True.\n",
    "        print('fizz')                       # If the above is True, print fizz.\n",
    "    elif num % 5 == 0:                      # If the number (not evenly divisible by 3 & 5 nor by 3) is evenly divisible by 5 (=0) - it is True.\n",
    "        print('buzz')                       # If the above is True, print buzz.\n",
    "    else:                                   # If the number does not meet any of the above criteria...\n",
    "        print(num)                           # ...print the number."
   ]
  },
  {
   "cell_type": "markdown",
   "metadata": {},
   "source": [
    "### Here's what I did ###\n",
    "- I created a loop to iterate \"num\" from 0 to 100 (fixed for the \"1-off issue\").\n",
    "- Check to see if the number is evenly divisible by both 3 & by 5, and if so print \"fizzbuz\".\n",
    "- If the number (not evenly divisible by 3 & 5) is evenly divisible by 3, print \"fizz\".\n",
    "- If the number (not evenly divisible by 3 & 5 nor by 3) is evenly divisible by 5, print \"buzz\".\n",
    "- If the number does not meet any of the above criteria...print the actual number."
   ]
  },
  {
   "cell_type": "code",
   "execution_count": null,
   "metadata": {},
   "outputs": [],
   "source": []
  }
 ],
 "metadata": {
  "anaconda-cloud": {},
  "kernelspec": {
   "display_name": "Python 3",
   "language": "python",
   "name": "python3"
  },
  "language_info": {
   "codemirror_mode": {
    "name": "ipython",
    "version": 3
   },
   "file_extension": ".py",
   "mimetype": "text/x-python",
   "name": "python",
   "nbconvert_exporter": "python",
   "pygments_lexer": "ipython3",
   "version": "3.7.3"
  }
 },
 "nbformat": 4,
 "nbformat_minor": 2
}
