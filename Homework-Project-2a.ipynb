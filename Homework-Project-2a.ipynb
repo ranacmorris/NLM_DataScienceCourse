{
 "cells": [
  {
   "cell_type": "markdown",
   "metadata": {},
   "source": [
    "<img src=\"http://imgur.com/1ZcRyrc.png\" style=\"float: left; margin: 20px; height: 55px\">\n",
    "\n",
    "# Project 2: Analyzing IMDb Data\n",
    "<br><br>\n",
    "_Instructor:_ Tim Book, General Assembly DC\n",
    "\n",
    "---"
   ]
  },
  {
   "cell_type": "markdown",
   "metadata": {},
   "source": [
    "For project two, you will complete a serious of exercises exploring movie rating data from IMDb.\n",
    "\n",
    "For these exercises, you will be conducting basic exploratory data analysis on IMDB's movie data, looking to answer such questions as:\n",
    "\n",
    "What is the average rating per genre?\n",
    "How many different actors are in a movie?\n",
    "\n",
    "This process will help you practice your data analysis skills while becoming comfortable with Pandas."
   ]
  },
  {
   "cell_type": "markdown",
   "metadata": {},
   "source": [
    "## Basic level"
   ]
  },
  {
   "cell_type": "code",
   "execution_count": 1,
   "metadata": {},
   "outputs": [],
   "source": [
    "import numpy as np\n",
    "import pandas as pd\n",
    "import matplotlib.pyplot as plt\n",
    "%matplotlib inline"
   ]
  },
  {
   "cell_type": "markdown",
   "metadata": {},
   "source": [
    "#### Read in 'imdb_1000.csv' and store it in a DataFrame named movies."
   ]
  },
  {
   "cell_type": "code",
   "execution_count": 2,
   "metadata": {},
   "outputs": [],
   "source": [
    "movies = pd.read_csv('./data/imdb_1000.csv')"
   ]
  },
  {
   "cell_type": "markdown",
   "metadata": {},
   "source": [
    "#### What are the number of rows and columns?"
   ]
  },
  {
   "cell_type": "code",
   "execution_count": 3,
   "metadata": {},
   "outputs": [
    {
     "data": {
      "text/plain": [
       "(979, 6)"
      ]
     },
     "execution_count": 3,
     "metadata": {},
     "output_type": "execute_result"
    }
   ],
   "source": [
    "movies.shape"
   ]
  },
  {
   "cell_type": "markdown",
   "metadata": {},
   "source": [
    "#### What are the data types of each column?"
   ]
  },
  {
   "cell_type": "code",
   "execution_count": 4,
   "metadata": {},
   "outputs": [
    {
     "data": {
      "text/plain": [
       "star_rating       float64\n",
       "title              object\n",
       "content_rating     object\n",
       "genre              object\n",
       "duration            int64\n",
       "actors_list        object\n",
       "dtype: object"
      ]
     },
     "execution_count": 4,
     "metadata": {},
     "output_type": "execute_result"
    }
   ],
   "source": [
    "movies.dtypes"
   ]
  },
  {
   "cell_type": "markdown",
   "metadata": {},
   "source": [
    "#### Calculate the average movie duration."
   ]
  },
  {
   "cell_type": "code",
   "execution_count": 5,
   "metadata": {},
   "outputs": [
    {
     "name": "stdout",
     "output_type": "stream",
     "text": [
      "The average movie duration for those listed is 120.97957099080695 minutes.\n"
     ]
    }
   ],
   "source": [
    "print('The average movie duration for those listed is',movies['duration'].mean(axis=0), \"minutes.\")"
   ]
  },
  {
   "cell_type": "markdown",
   "metadata": {},
   "source": [
    "#### Sort the DataFrame by duration to find the shortest and longest movies."
   ]
  },
  {
   "cell_type": "code",
   "execution_count": 6,
   "metadata": {},
   "outputs": [
    {
     "name": "stdout",
     "output_type": "stream",
     "text": [
      "The shortest movie at 64 minutes is: Freaks .\n",
      "The longest movie at 242 minutes is: Hamlet .\n"
     ]
    }
   ],
   "source": [
    "movies.sort_values(by=['duration'], inplace=True)\n",
    "print('The shortest movie at', movies.iloc[0,4], 'minutes is:', movies.iloc[0,1],'.')\n",
    "movies.sort_values(by=['duration'], inplace=True, ascending=False)\n",
    "print('The longest movie at', movies.iloc[0,4], 'minutes is:', movies.iloc[0,1],'.')"
   ]
  },
  {
   "cell_type": "markdown",
   "metadata": {},
   "source": [
    "#### Create a histogram of duration, choosing an \"appropriate\" number of bins."
   ]
  },
  {
   "cell_type": "code",
   "execution_count": 7,
   "metadata": {},
   "outputs": [
    {
     "data": {
      "image/png": "[encoded data removed]",
      "text/plain": [
       "<Figure size 432x288 with 1 Axes>"
      ]
     },
     "metadata": {
      "needs_background": "light"
     },
     "output_type": "display_data"
    }
   ],
   "source": [
    "movies.duration.hist(bins=[0,30,45,60,75,90,105,120,135,150,165,180,195,210,225,240])\n",
    "plt.xlim((0, 240))\n",
    "plt.xticks([0,30,60,90,120,150,180,210,240])\n",
    "plt.title('Distribution of Movies by Duration')\n",
    "plt.xlabel('duration (in minutes)')\n",
    "plt.ylabel('number of movies');"
   ]
  },
  {
   "cell_type": "markdown",
   "metadata": {},
   "source": [
    "#### Use a box plot to display that same data."
   ]
  },
  {
   "cell_type": "code",
   "execution_count": 8,
   "metadata": {},
   "outputs": [
    {
     "data": {
      "image/png": "[encoded data removed]",
      "text/plain": [
       "<Figure size 432x288 with 1 Axes>"
      ]
     },
     "metadata": {
      "needs_background": "light"
     },
     "output_type": "display_data"
    }
   ],
   "source": [
    "cols='duration'\n",
    "movies.boxplot(column=cols, vert=False)\n",
    "plt.xlim((0, 250))\n",
    "plt.xticks([0,30,60,90,120,150,180,210,240])\n",
    "plt.xlabel('duration (in minutes)')\n",
    "plt.title('Distribution of Movies by Duration');"
   ]
  },
  {
   "cell_type": "markdown",
   "metadata": {},
   "source": [
    "## Intermediate level"
   ]
  },
  {
   "cell_type": "markdown",
   "metadata": {},
   "source": [
    "#### Count how many movies have each of the content ratings."
   ]
  },
  {
   "cell_type": "code",
   "execution_count": 9,
   "metadata": {},
   "outputs": [
    {
     "data": {
      "text/plain": [
       "R            460\n",
       "PG-13        189\n",
       "PG           123\n",
       "NOT RATED     65\n",
       "APPROVED      47\n",
       "UNRATED       38\n",
       "G             32\n",
       "PASSED         7\n",
       "NC-17          7\n",
       "X              4\n",
       "GP             3\n",
       "TV-MA          1\n",
       "Name: content_rating, dtype: int64"
      ]
     },
     "execution_count": 9,
     "metadata": {},
     "output_type": "execute_result"
    }
   ],
   "source": [
    "movies['content_rating'].value_counts()"
   ]
  },
  {
   "cell_type": "markdown",
   "metadata": {},
   "source": [
    "#### Use a visualization to display that same data, including a title and x and y labels."
   ]
  },
  {
   "cell_type": "code",
   "execution_count": 10,
   "metadata": {},
   "outputs": [
    {
     "data": {
      "image/png": "[encoded data removed]",
      "text/plain": [
       "<Figure size 432x288 with 1 Axes>"
      ]
     },
     "metadata": {
      "needs_background": "light"
     },
     "output_type": "display_data"
    }
   ],
   "source": [
    "content_ratings = movies['content_rating'].value_counts()\n",
    "content_ratings.plot.bar()\n",
    "plt.title('Distribution of Movies by Duration')\n",
    "plt.ylabel('number of movies');"
   ]
  },
  {
   "cell_type": "markdown",
   "metadata": {},
   "source": [
    "#### Convert the following content ratings to \"UNRATED\": NOT RATED, APPROVED, PASSED, GP."
   ]
  },
  {
   "cell_type": "code",
   "execution_count": 11,
   "metadata": {},
   "outputs": [
    {
     "data": {
      "text/plain": [
       "R          460\n",
       "PG-13      189\n",
       "UNRATED    160\n",
       "PG         123\n",
       "G           32\n",
       "NC-17        7\n",
       "X            4\n",
       "TV-MA        1\n",
       "Name: content_rating, dtype: int64"
      ]
     },
     "execution_count": 11,
     "metadata": {},
     "output_type": "execute_result"
    }
   ],
   "source": [
    "movies['content_rating'].replace(['NOT RATED', 'APPROVED', 'PASSED', 'GP'], 'UNRATED', inplace=True) \n",
    "movies['content_rating'].value_counts()"
   ]
  },
  {
   "cell_type": "markdown",
   "metadata": {},
   "source": [
    "#### Convert the following content ratings to \"NC-17\": X, TV-MA."
   ]
  },
  {
   "cell_type": "code",
   "execution_count": 12,
   "metadata": {},
   "outputs": [
    {
     "data": {
      "text/plain": [
       "R          460\n",
       "PG-13      189\n",
       "UNRATED    160\n",
       "PG         123\n",
       "G           32\n",
       "NC-17       12\n",
       "Name: content_rating, dtype: int64"
      ]
     },
     "execution_count": 12,
     "metadata": {},
     "output_type": "execute_result"
    }
   ],
   "source": [
    "movies['content_rating'].replace(['X', 'TV-MA'], 'NC-17', inplace=True) \n",
    "movies['content_rating'].value_counts()"
   ]
  },
  {
   "cell_type": "markdown",
   "metadata": {},
   "source": [
    "#### Count the number of missing values in each column."
   ]
  },
  {
   "cell_type": "code",
   "execution_count": 20,
   "metadata": {},
   "outputs": [
    {
     "name": "stdout",
     "output_type": "stream",
     "text": [
      "The number of entries in this number of categories is: (979, 6)\n",
      "The number of non-null (not missing) entries in each column is:\n",
      "<class 'pandas.core.frame.DataFrame'>\n",
      "Int64Index: 979 entries, 476 to 389\n",
      "Data columns (total 6 columns):\n",
      "star_rating       979 non-null float64\n",
      "title             979 non-null object\n",
      "content_rating    976 non-null object\n",
      "genre             979 non-null object\n",
      "duration          979 non-null int64\n",
      "actors_list       979 non-null object\n",
      "dtypes: float64(1), int64(1), object(4)\n",
      "memory usage: 93.5+ KB\n"
     ]
    }
   ],
   "source": [
    "print('The number of entries in this number of categories is:', movies.shape)\n",
    "print('The number of non-null (not missing) entries in each column is:')\n",
    "movies.info()"
   ]
  },
  {
   "cell_type": "code",
   "execution_count": 23,
   "metadata": {},
   "outputs": [
    {
     "name": "stdout",
     "output_type": "stream",
     "text": [
      "The number of entries missing in each category is:\n"
     ]
    },
    {
     "data": {
      "text/plain": [
       "star_rating       0\n",
       "title             0\n",
       "content_rating    3\n",
       "genre             0\n",
       "duration          0\n",
       "actors_list       0\n",
       "dtype: int64"
      ]
     },
     "execution_count": 23,
     "metadata": {},
     "output_type": "execute_result"
    }
   ],
   "source": [
    "print('The number of entries missing in each category is:')\n",
    "movies.isnull().sum()"
   ]
  },
  {
   "cell_type": "markdown",
   "metadata": {},
   "source": [
    "#### If there are missing values: examine them, then fill them in with \"reasonable\" values."
   ]
  },
  {
   "cell_type": "code",
   "execution_count": 24,
   "metadata": {},
   "outputs": [
    {
     "name": "stdout",
     "output_type": "stream",
     "text": [
      "The rows with missing data are:\n"
     ]
    },
    {
     "data": {
      "text/html": [
       "<div>\n",
       "<style scoped>\n",
       "    .dataframe tbody tr th:only-of-type {\n",
       "        vertical-align: middle;\n",
       "    }\n",
       "\n",
       "    .dataframe tbody tr th {\n",
       "        vertical-align: top;\n",
       "    }\n",
       "\n",
       "    .dataframe thead th {\n",
       "        text-align: right;\n",
       "    }\n",
       "</style>\n",
       "<table border=\"1\" class=\"dataframe\">\n",
       "  <thead>\n",
       "    <tr style=\"text-align: right;\">\n",
       "      <th></th>\n",
       "      <th>star_rating</th>\n",
       "      <th>title</th>\n",
       "      <th>content_rating</th>\n",
       "      <th>genre</th>\n",
       "      <th>duration</th>\n",
       "      <th>actors_list</th>\n",
       "    </tr>\n",
       "  </thead>\n",
       "  <tbody>\n",
       "    <tr>\n",
       "      <th>649</th>\n",
       "      <td>7.7</td>\n",
       "      <td>Where Eagles Dare</td>\n",
       "      <td>NaN</td>\n",
       "      <td>Action</td>\n",
       "      <td>158</td>\n",
       "      <td>[u'Richard Burton', u'Clint Eastwood', u'Mary ...</td>\n",
       "    </tr>\n",
       "    <tr>\n",
       "      <th>936</th>\n",
       "      <td>7.4</td>\n",
       "      <td>True Grit</td>\n",
       "      <td>NaN</td>\n",
       "      <td>Adventure</td>\n",
       "      <td>128</td>\n",
       "      <td>[u'John Wayne', u'Kim Darby', u'Glen Campbell']</td>\n",
       "    </tr>\n",
       "    <tr>\n",
       "      <th>187</th>\n",
       "      <td>8.2</td>\n",
       "      <td>Butch Cassidy and the Sundance Kid</td>\n",
       "      <td>NaN</td>\n",
       "      <td>Biography</td>\n",
       "      <td>110</td>\n",
       "      <td>[u'Paul Newman', u'Robert Redford', u'Katharin...</td>\n",
       "    </tr>\n",
       "  </tbody>\n",
       "</table>\n",
       "</div>"
      ],
      "text/plain": [
       "     star_rating                               title content_rating  \\\n",
       "649          7.7                   Where Eagles Dare            NaN   \n",
       "936          7.4                           True Grit            NaN   \n",
       "187          8.2  Butch Cassidy and the Sundance Kid            NaN   \n",
       "\n",
       "         genre  duration                                        actors_list  \n",
       "649     Action       158  [u'Richard Burton', u'Clint Eastwood', u'Mary ...  \n",
       "936  Adventure       128    [u'John Wayne', u'Kim Darby', u'Glen Campbell']  \n",
       "187  Biography       110  [u'Paul Newman', u'Robert Redford', u'Katharin...  "
      ]
     },
     "execution_count": 24,
     "metadata": {},
     "output_type": "execute_result"
    }
   ],
   "source": [
    "print('The rows with missing data are:')\n",
    "movies[movies.isna().any(axis=1)]"
   ]
  },
  {
   "cell_type": "code",
   "execution_count": 28,
   "metadata": {},
   "outputs": [
    {
     "name": "stdout",
     "output_type": "stream",
     "text": [
      "I looked up the accurate data for the missing content_rating values\n",
      " in the web-version of IMDB and put them in the table:\n"
     ]
    },
    {
     "data": {
      "text/html": [
       "<div>\n",
       "<style scoped>\n",
       "    .dataframe tbody tr th:only-of-type {\n",
       "        vertical-align: middle;\n",
       "    }\n",
       "\n",
       "    .dataframe tbody tr th {\n",
       "        vertical-align: top;\n",
       "    }\n",
       "\n",
       "    .dataframe thead th {\n",
       "        text-align: right;\n",
       "    }\n",
       "</style>\n",
       "<table border=\"1\" class=\"dataframe\">\n",
       "  <thead>\n",
       "    <tr style=\"text-align: right;\">\n",
       "      <th></th>\n",
       "      <th>star_rating</th>\n",
       "      <th>title</th>\n",
       "      <th>content_rating</th>\n",
       "      <th>genre</th>\n",
       "      <th>duration</th>\n",
       "      <th>actors_list</th>\n",
       "    </tr>\n",
       "  </thead>\n",
       "  <tbody>\n",
       "    <tr>\n",
       "      <th>935</th>\n",
       "      <td>7.4</td>\n",
       "      <td>Excalibur</td>\n",
       "      <td>PG</td>\n",
       "      <td>Adventure</td>\n",
       "      <td>140</td>\n",
       "      <td>[u'Nigel Terry', u'Helen Mirren', u'Nicholas C...</td>\n",
       "    </tr>\n",
       "    <tr>\n",
       "      <th>520</th>\n",
       "      <td>7.8</td>\n",
       "      <td>Back to the Future Part II</td>\n",
       "      <td>PG</td>\n",
       "      <td>Adventure</td>\n",
       "      <td>108</td>\n",
       "      <td>[u'Michael J. Fox', u'Christopher Lloyd', u'Le...</td>\n",
       "    </tr>\n",
       "    <tr>\n",
       "      <th>892</th>\n",
       "      <td>7.5</td>\n",
       "      <td>Fruitvale Station</td>\n",
       "      <td>G</td>\n",
       "      <td>Biography</td>\n",
       "      <td>85</td>\n",
       "      <td>[u'Michael B. Jordan', u'Melonie Diaz', u'Octa...</td>\n",
       "    </tr>\n",
       "  </tbody>\n",
       "</table>\n",
       "</div>"
      ],
      "text/plain": [
       "     star_rating                       title content_rating      genre  \\\n",
       "935          7.4                   Excalibur             PG  Adventure   \n",
       "520          7.8  Back to the Future Part II             PG  Adventure   \n",
       "892          7.5           Fruitvale Station              G  Biography   \n",
       "\n",
       "     duration                                        actors_list  \n",
       "935       140  [u'Nigel Terry', u'Helen Mirren', u'Nicholas C...  \n",
       "520       108  [u'Michael J. Fox', u'Christopher Lloyd', u'Le...  \n",
       "892        85  [u'Michael B. Jordan', u'Melonie Diaz', u'Octa...  "
      ]
     },
     "execution_count": 28,
     "metadata": {},
     "output_type": "execute_result"
    }
   ],
   "source": [
    "print('I looked up the accurate data for the missing content_rating values\\n in the web-version of IMDB and put them in the table:')\n",
    "# \"Butch Cassidy and the Sundance Kid\" was rated \"PG\" (IMDB)\n",
    "movies.iloc[187, movies.columns.get_loc('content_rating')] = 'PG'\n",
    "# \"Where Eagles Dare\" was rated \"PG\" (IMDB)\n",
    "movies.iloc[649, movies.columns.get_loc('content_rating')] = 'PG'\n",
    "# \"True Grit\" (the original one) was rated \"G\" (IMDB)\n",
    "movies.iloc[936, movies.columns.get_loc('content_rating')] = 'G'\n",
    "# movies[movies.isna().any(axis=1)]\n",
    "movies.iloc[[187, 649, 936]]  "
   ]
  },
  {
   "cell_type": "markdown",
   "metadata": {},
   "source": [
    "#### Calculate the average star rating for movies 2 hours or longer, and compare that with the average star rating for movies shorter than 2 hours."
   ]
  },
  {
   "cell_type": "code",
   "execution_count": 29,
   "metadata": {},
   "outputs": [
    {
     "name": "stdout",
     "output_type": "stream",
     "text": [
      "For movies 2 hours or longer, the average star rating is: 7.948898678414094\n",
      "For movies under 2 hours, the average star rating is: 7.838666666666657\n"
     ]
    }
   ],
   "source": [
    "print('For movies 2 hours or longer, the average star rating is:', movies['star_rating'][movies['duration'] >= 120].mean(axis=0))\n",
    "print('For movies under 2 hours, the average star rating is:', movies['star_rating'][movies['duration'] < 120].mean())"
   ]
  },
  {
   "cell_type": "markdown",
   "metadata": {},
   "source": [
    "#### Use a visualization to detect whether there is a relationship between duration and star rating."
   ]
  },
  {
   "cell_type": "code",
   "execution_count": 30,
   "metadata": {},
   "outputs": [
    {
     "name": "stdout",
     "output_type": "stream",
     "text": [
      "There appears to be a positive correlation between duration and star rating.\n"
     ]
    },
    {
     "data": {
      "image/png": "[encoded data removed]",
      "text/plain": [
       "<Figure size 432x288 with 1 Axes>"
      ]
     },
     "metadata": {
      "needs_background": "light"
     },
     "output_type": "display_data"
    }
   ],
   "source": [
    "plt.scatter(movies['duration'], movies['star_rating']);\n",
    "plt.xlim((0, 250))\n",
    "plt.xticks([0,30,60,90,120,150,180,210,240])\n",
    "plt.ylim((7, 9.5))\n",
    "plt.yticks([7,7.5,8,8.5,9,9.5])\n",
    "plt.title('Relationship of Movie Star Rating & Duration')\n",
    "plt.xlabel('duration (in minutes)')\n",
    "plt.ylabel('star rating');\n",
    "print('There appears to be a positive correlation between duration and star rating.')"
   ]
  },
  {
   "cell_type": "markdown",
   "metadata": {},
   "source": [
    "#### Calculate the average duration for each genre."
   ]
  },
  {
   "cell_type": "code",
   "execution_count": 31,
   "metadata": {},
   "outputs": [
    {
     "name": "stdout",
     "output_type": "stream",
     "text": [
      "The average duration for movies by genre\n",
      "Action       126.485294\n",
      "Adventure    134.840000\n",
      "Animation     96.596774\n",
      "Biography    131.844156\n",
      "Comedy       107.602564\n",
      "Crime        122.298387\n",
      "Drama        126.539568\n",
      "Family       107.500000\n",
      "Fantasy      112.000000\n",
      "Film-Noir     97.333333\n",
      "History       66.000000\n",
      "Horror       102.517241\n",
      "Mystery      115.625000\n",
      "Sci-Fi       109.000000\n",
      "Thriller     114.200000\n",
      "Western      136.666667\n",
      "Name: duration, dtype: float64\n"
     ]
    }
   ],
   "source": [
    "print('The average duration for movies by', \n",
    "      movies.groupby(['genre'])['duration'].mean())"
   ]
  },
  {
   "cell_type": "markdown",
   "metadata": {},
   "source": [
    "## Advanced level"
   ]
  },
  {
   "cell_type": "markdown",
   "metadata": {},
   "source": [
    "#### Visualize the relationship between content rating and duration."
   ]
  },
  {
   "cell_type": "code",
   "execution_count": 32,
   "metadata": {},
   "outputs": [
    {
     "data": {
      "image/png": "[encoded data removed]",
      "text/plain": [
       "<Figure size 432x288 with 1 Axes>"
      ]
     },
     "metadata": {
      "needs_background": "light"
     },
     "output_type": "display_data"
    }
   ],
   "source": [
    "movies.boxplot(column='duration',by='content_rating')\n",
    "plt.ylim((0, 250))\n",
    "plt.yticks([0,30,60,90,120,150,180,210,240])\n",
    "plt.grid(False)\n",
    "plt.xlabel('')\n",
    "plt.title('')\n",
    "plt.ylabel('duration of movies (in minutes)');"
   ]
  },
  {
   "cell_type": "markdown",
   "metadata": {},
   "source": [
    "#### Determine the top rated movie (by star rating) for each genre."
   ]
  },
  {
   "cell_type": "code",
   "execution_count": 33,
   "metadata": {},
   "outputs": [
    {
     "name": "stdout",
     "output_type": "stream",
     "text": [
      "The star rating and title for each movie genre are:\n",
      "           star_rating                                title\n",
      "genre                                                      \n",
      "Action             9.0                              Yojimbo\n",
      "Adventure          8.9                            True Grit\n",
      "Animation          8.6                       Wreck-It Ralph\n",
      "Biography          8.9                        Walk the Line\n",
      "Comedy             8.6                           Zombieland\n",
      "Crime              9.3                               Zodiac\n",
      "Drama              8.9                                 Zulu\n",
      "Family             7.9  Willy Wonka & the Chocolate Factory\n",
      "Fantasy            7.7            The City of Lost Children\n",
      "Film-Noir          8.3                        The Third Man\n",
      "History            8.0                  Battleship Potemkin\n",
      "Horror             8.6                                [Rec]\n",
      "Mystery            8.6                              Vertigo\n",
      "Sci-Fi             8.2        The Day the Earth Stood Still\n",
      "Thriller           8.0            The Man Who Knew Too Much\n",
      "Western            8.9                           Unforgiven\n"
     ]
    }
   ],
   "source": [
    "print('The star rating and title for each movie genre are:')\n",
    "genre_max = movies.groupby(['genre']).max()\n",
    "print(genre_max.loc[:,['star_rating', 'title']])"
   ]
  },
  {
   "cell_type": "markdown",
   "metadata": {},
   "source": [
    "#### Check if there are multiple movies with the same title, and if so, determine if they are actually duplicates."
   ]
  },
  {
   "cell_type": "code",
   "execution_count": 36,
   "metadata": {},
   "outputs": [
    {
     "name": "stdout",
     "output_type": "stream",
     "text": [
      "There are duplications and here they are:\n",
      "      star_rating                            title content_rating      genre  \\\n",
      "678          7.7                   Les Miserables          PG-13      Drama   \n",
      "466          7.9  The Girl with the Dragon Tattoo              R      Crime   \n",
      "482          7.8  The Girl with the Dragon Tattoo              R      Crime   \n",
      "924          7.5                   Les Miserables          PG-13      Crime   \n",
      "936          7.4                        True Grit            NaN  Adventure   \n",
      "905          7.5                          Dracula              R     Horror   \n",
      "662          7.7                        True Grit          PG-13  Adventure   \n",
      "703          7.6                          Dracula        UNRATED     Horror   \n",
      "\n",
      "     duration                                        actors_list  \n",
      "678       158  [u'Hugh Jackman', u'Russell Crowe', u'Anne Hat...  \n",
      "466       158  [u'Daniel Craig', u'Rooney Mara', u'Christophe...  \n",
      "482       152  [u'Michael Nyqvist', u'Noomi Rapace', u'Ewa Fr...  \n",
      "924       134  [u'Liam Neeson', u'Geoffrey Rush', u'Uma Thurm...  \n",
      "936       128    [u'John Wayne', u'Kim Darby', u'Glen Campbell']  \n",
      "905       128  [u'Gary Oldman', u'Winona Ryder', u'Anthony Ho...  \n",
      "662       110  [u'Jeff Bridges', u'Matt Damon', u'Hailee Stei...  \n",
      "703        85  [u'Bela Lugosi', u'Helen Chandler', u'David Ma...  \n",
      "\n",
      "After duplication removal a request for duplications display an: Empty DataFrame\n",
      "Columns: [star_rating, title, content_rating, genre, duration, actors_list]\n",
      "Index: []\n"
     ]
    }
   ],
   "source": [
    "# Check to see if there are duplicates in movie's title column and show them.\n",
    "movies[movies.duplicated(['title'])]\n",
    "titles = movies['title']\n",
    "print('There are duplications and here they are:\\n', movies[titles.isin(titles[titles.duplicated()])])\n",
    "\n",
    "# Remove duplicate rows based on values in the title column, keep the last one - and save to nodup_movies.\n",
    "nodup_movies = movies.drop_duplicates('title', keep='last')\n",
    "\n",
    "# Check to see if there are duplicates in nodup_movies. \n",
    "nodup_movies[nodup_movies.duplicated(['title'])]\n",
    "titles = nodup_movies['title']\n",
    "print('\\nAfter duplication removal a request for duplications display an:', nodup_movies[titles.isin(titles[titles.duplicated()])])"
   ]
  },
  {
   "cell_type": "markdown",
   "metadata": {},
   "source": [
    "#### Calculate the average star rating for each genre, but only include genres with at least 10 movies"
   ]
  },
  {
   "cell_type": "markdown",
   "metadata": {},
   "source": [
    "#### Option 1: automatically create a list of relevant genres by saving the value_counts and then filtering"
   ]
  },
  {
   "cell_type": "code",
   "execution_count": 37,
   "metadata": {},
   "outputs": [
    {
     "name": "stdout",
     "output_type": "stream",
     "text": [
      "The average star rating for movies with counts over 10 by genre:\n",
      " genre\n",
      "Action       7.884559\n",
      "Adventure    7.933333\n",
      "Animation    7.914516\n",
      "Biography    7.862338\n",
      "Comedy       7.822436\n",
      "Crime        7.916935\n",
      "Drama        7.902518\n",
      "Horror       7.806897\n",
      "Mystery      7.975000\n",
      "Name: star_rating, dtype: float64\n"
     ]
    }
   ],
   "source": [
    "# Group the genres and get the counts for each.\n",
    "genre_counts = movies['genre'].value_counts()\n",
    "#print(genre_counts)\n",
    "# Create an indexed filtered_list of genres filtered to keep only those with 10 or more as counts.\n",
    "filtered_list = genre_counts[(genre_counts >= 10)].index\n",
    "#print(filtered_list)\n",
    "# Filter the full movies list for those that are listed in the filtered list, group the genres again, calculate the means of the values in the star rating column and print them.\n",
    "print('The average star rating for movies with counts over 10 by genre:\\n', movies[movies.genre.isin(filtered_list)].groupby('genre').star_rating.mean())"
   ]
  },
  {
   "cell_type": "markdown",
   "metadata": {},
   "source": [
    "#### Option 2: aggregate by count and mean, then filter using the count"
   ]
  },
  {
   "cell_type": "code",
   "execution_count": 38,
   "metadata": {},
   "outputs": [
    {
     "name": "stdout",
     "output_type": "stream",
     "text": [
      "The average star rating for movies by genre with counts over 10 are:\n",
      "            count      mean\n",
      "genre                     \n",
      "Action       136  7.884559\n",
      "Adventure     75  7.933333\n",
      "Animation     62  7.914516\n",
      "Biography     77  7.862338\n",
      "Comedy       156  7.822436\n",
      "Crime        124  7.916935\n",
      "Drama        278  7.902518\n",
      "Horror        29  7.806897\n",
      "Mystery       16  7.975000\n"
     ]
    }
   ],
   "source": [
    "# Group the movies by genre and calculate counts and means for star_rating.\n",
    "movie_stats = movies.groupby(['genre']).star_rating.agg(['count', 'mean'])\n",
    "#print(movie_stats)\n",
    "# Filter the movie_stats table by count >= 10 and print out.\n",
    "print('The average star rating for movies by genre with counts over 10 are:\\n',movie_stats[movie_stats['count'] >= 10])"
   ]
  },
  {
   "cell_type": "markdown",
   "metadata": {},
   "source": [
    "## Bonus"
   ]
  },
  {
   "cell_type": "markdown",
   "metadata": {},
   "source": [
    "#### Figure out something \"interesting\" using the actors data!"
   ]
  },
  {
   "cell_type": "code",
   "execution_count": 41,
   "metadata": {},
   "outputs": [
    {
     "name": "stdout",
     "output_type": "stream",
     "text": [
      "Of all 979 movies, 969 have unique cast listings.\n",
      " But 6 have the same cast, the most of any set of actors.\n",
      "This is the cast of the Harry Potter movies.\n"
     ]
    },
    {
     "data": {
      "text/plain": [
       "count                                                   979\n",
       "unique                                                  969\n",
       "top       [u'Daniel Radcliffe', u'Emma Watson', u'Rupert...\n",
       "freq                                                      6\n",
       "Name: actors_list, dtype: object"
      ]
     },
     "execution_count": 41,
     "metadata": {},
     "output_type": "execute_result"
    }
   ],
   "source": [
    "print('Of all 979 movies, 969 have unique cast listings.\\n But 6 have the same cast, the most of any set of actors.\\nThis is the cast of the Harry Potter movies.')\n",
    "movies['actors_list'].describe()"
   ]
  },
  {
   "cell_type": "code",
   "execution_count": null,
   "metadata": {},
   "outputs": [],
   "source": []
  }
 ],
 "metadata": {
  "kernelspec": {
   "display_name": "Python 3",
   "language": "python",
   "name": "python3"
  },
  "language_info": {
   "codemirror_mode": {
    "name": "ipython",
    "version": 3
   },
   "file_extension": ".py",
   "mimetype": "text/x-python",
   "name": "python",
   "nbconvert_exporter": "python",
   "pygments_lexer": "ipython3",
   "version": "3.7.3"
  }
 },
 "nbformat": 4,
 "nbformat_minor": 2
}
