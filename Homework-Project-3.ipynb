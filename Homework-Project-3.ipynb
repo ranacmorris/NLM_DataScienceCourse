{
 "cells": [
  {
   "cell_type": "markdown",
   "metadata": {},
   "source": [
    "<img src=\"http://imgur.com/1ZcRyrc.png\" style=\"float: left; margin: 20px; height: 55px\">\n",
    "\n",
    "# Project 3: Statistical Modeling and Model Validation\n",
    "\n",
    "---"
   ]
  },
  {
   "cell_type": "markdown",
   "metadata": {},
   "source": [
    "## Objective\n",
    "The goal of this assessment is to guide you through the modeling workflow to produce the best model you can. In this lesson, you will follow all best practices when slicing your data and validating your model. \n",
    "\n",
    "Specifically, the following skills will be reinforced in a real-world-ish simulated setting:\n",
    "\n",
    "For logistic regression:\n",
    "* Handling categorical features in a `sklean` model.\n",
    "* Carrying out a train-test-split.\n",
    "* Training a model.\n",
    "* Evaluating that model on the testing data.\n",
    "\n",
    "For k-Nearest Neighbors:\n",
    "* Preparing your data for modeling.\n",
    "* Scaling your data.\n",
    "* Tuning a tuning parameter using k-Fold Cross Validation.\n",
    "* Finally selecting a model based on a tuning parameter.\n",
    "* Making model-based decisions on new data."
   ]
  },
  {
   "cell_type": "markdown",
   "metadata": {},
   "source": [
    "## Imports"
   ]
  },
  {
   "cell_type": "code",
   "execution_count": 113,
   "metadata": {},
   "outputs": [],
   "source": [
    "import pandas as pd\n",
    "import seaborn as sns\n",
    "import numpy as np\n",
    "import matplotlib.pyplot as plt\n",
    "import statsmodels.api as sm\n",
    "from sklearn.model_selection import train_test_split\n",
    "from sklearn.linear_model import LinearRegression\n",
    "from sklearn.metrics import mean_squared_error\n",
    "from sklearn.metrics import accuracy_score\n",
    "from sklearn.model_selection import cross_val_score\n",
    "from sklearn.neighbors import KNeighborsClassifier\n",
    "from sklearn.preprocessing import StandardScaler\n",
    "\n",
    "# Import everything you need for this project here.\n",
    "# You will want to return to this cell to import more things later in the project.\n",
    "# DO NOT COPY AND PASTE FROM OUR CLASS SLIDES!\n",
    "# Muscle memory is important in this class!\n",
    "\n",
    "import warnings\n",
    "warnings.filterwarnings(\"ignore\")"
   ]
  },
  {
   "cell_type": "markdown",
   "metadata": {},
   "source": [
    "# Part 1: Regression on MPG Data"
   ]
  },
  {
   "cell_type": "markdown",
   "metadata": {},
   "source": [
    "## Read Data\n",
    "The `mpg` dataset is the fuel economy for 38 popular models of car between 1999 and 2008"
   ]
  },
  {
   "cell_type": "code",
   "execution_count": 114,
   "metadata": {},
   "outputs": [
    {
     "name": "stdout",
     "output_type": "stream",
     "text": [
      "The number of rows & columns, respectively, in this table are = (234, 11)\n"
     ]
    },
    {
     "data": {
      "text/html": [
       "<div>\n",
       "<style scoped>\n",
       "    .dataframe tbody tr th:only-of-type {\n",
       "        vertical-align: middle;\n",
       "    }\n",
       "\n",
       "    .dataframe tbody tr th {\n",
       "        vertical-align: top;\n",
       "    }\n",
       "\n",
       "    .dataframe thead th {\n",
       "        text-align: right;\n",
       "    }\n",
       "</style>\n",
       "<table border=\"1\" class=\"dataframe\">\n",
       "  <thead>\n",
       "    <tr style=\"text-align: right;\">\n",
       "      <th></th>\n",
       "      <th>manufacturer</th>\n",
       "      <th>model</th>\n",
       "      <th>displ</th>\n",
       "      <th>year</th>\n",
       "      <th>cyl</th>\n",
       "      <th>trans</th>\n",
       "      <th>drv</th>\n",
       "      <th>cty</th>\n",
       "      <th>hwy</th>\n",
       "      <th>fl</th>\n",
       "      <th>class</th>\n",
       "    </tr>\n",
       "  </thead>\n",
       "  <tbody>\n",
       "    <tr>\n",
       "      <th>0</th>\n",
       "      <td>audi</td>\n",
       "      <td>a4</td>\n",
       "      <td>1.8</td>\n",
       "      <td>1999</td>\n",
       "      <td>4</td>\n",
       "      <td>auto(l5)</td>\n",
       "      <td>f</td>\n",
       "      <td>18</td>\n",
       "      <td>29</td>\n",
       "      <td>p</td>\n",
       "      <td>compact</td>\n",
       "    </tr>\n",
       "    <tr>\n",
       "      <th>1</th>\n",
       "      <td>audi</td>\n",
       "      <td>a4</td>\n",
       "      <td>1.8</td>\n",
       "      <td>1999</td>\n",
       "      <td>4</td>\n",
       "      <td>manual(m5)</td>\n",
       "      <td>f</td>\n",
       "      <td>21</td>\n",
       "      <td>29</td>\n",
       "      <td>p</td>\n",
       "      <td>compact</td>\n",
       "    </tr>\n",
       "    <tr>\n",
       "      <th>2</th>\n",
       "      <td>audi</td>\n",
       "      <td>a4</td>\n",
       "      <td>2.0</td>\n",
       "      <td>2008</td>\n",
       "      <td>4</td>\n",
       "      <td>manual(m6)</td>\n",
       "      <td>f</td>\n",
       "      <td>20</td>\n",
       "      <td>31</td>\n",
       "      <td>p</td>\n",
       "      <td>compact</td>\n",
       "    </tr>\n",
       "    <tr>\n",
       "      <th>3</th>\n",
       "      <td>audi</td>\n",
       "      <td>a4</td>\n",
       "      <td>2.0</td>\n",
       "      <td>2008</td>\n",
       "      <td>4</td>\n",
       "      <td>auto(av)</td>\n",
       "      <td>f</td>\n",
       "      <td>21</td>\n",
       "      <td>30</td>\n",
       "      <td>p</td>\n",
       "      <td>compact</td>\n",
       "    </tr>\n",
       "    <tr>\n",
       "      <th>4</th>\n",
       "      <td>audi</td>\n",
       "      <td>a4</td>\n",
       "      <td>2.8</td>\n",
       "      <td>1999</td>\n",
       "      <td>6</td>\n",
       "      <td>auto(l5)</td>\n",
       "      <td>f</td>\n",
       "      <td>16</td>\n",
       "      <td>26</td>\n",
       "      <td>p</td>\n",
       "      <td>compact</td>\n",
       "    </tr>\n",
       "  </tbody>\n",
       "</table>\n",
       "</div>"
      ],
      "text/plain": [
       "  manufacturer model  displ  year  cyl       trans drv  cty  hwy fl    class\n",
       "0         audi    a4    1.8  1999    4    auto(l5)   f   18   29  p  compact\n",
       "1         audi    a4    1.8  1999    4  manual(m5)   f   21   29  p  compact\n",
       "2         audi    a4    2.0  2008    4  manual(m6)   f   20   31  p  compact\n",
       "3         audi    a4    2.0  2008    4    auto(av)   f   21   30  p  compact\n",
       "4         audi    a4    2.8  1999    6    auto(l5)   f   16   26  p  compact"
      ]
     },
     "execution_count": 114,
     "metadata": {},
     "output_type": "execute_result"
    }
   ],
   "source": [
    "# Read in the mpg data in the data folder in this repository.\n",
    "mpg = pd.read_csv('./data/mpg.csv')\n",
    "print('The number of rows & columns, respectively, in this table are =', mpg.shape)\n",
    "mpg.head()                 "
   ]
  },
  {
   "cell_type": "markdown",
   "metadata": {},
   "source": [
    "## Explore the data\n",
    "Use this space to familiarize yourself with the data.\n",
    "\n",
    "Convince yourself there are no issues with the data. If you find any issues, clean them here."
   ]
  },
  {
   "cell_type": "markdown",
   "metadata": {},
   "source": [
    "#### Myself: \"How's the data and what does the data in critical columns (to be assessed later) look like?\"\n",
    "I've looked the table over and the column data, based on titles, seems reasonable.<br>\n",
    "In addition, the results of the following two cells suggest that the table has no missing data.<br>\n",
    "**So, I think the data is fine.**\n",
    "\n",
    "Two measures of familiarization are shown below (scatter plot for looking at correlation of 'displ' data with 'hwy' & boxplot for comparing the relationships between various 'drv' mechanisms with 'hwy'):\n",
    "- 'displ' is column with somewhat continuous data which exhibits a fairly good, linear and inverse relationship with 'hwy'\n",
    "- 'drv' is a column with 3 categories of data (f, r & 4) and when their relationship with 'hwy' is compared, \n",
    "    * f appears to have the highest mean 'hwy' correlation\n",
    "    * r correlates at a value that is much lower than f, but with a mean somewhat higher than 4\n",
    "    * 4 correlates with the lowest 'hwy' and with a fairly high range of data (deviation)"
   ]
  },
  {
   "cell_type": "code",
   "execution_count": 3,
   "metadata": {},
   "outputs": [
    {
     "name": "stdout",
     "output_type": "stream",
     "text": [
      "Here's a list of the columns with number of filled data cells in 234 rows:\n",
      "<class 'pandas.core.frame.DataFrame'>\n",
      "RangeIndex: 234 entries, 0 to 233\n",
      "Data columns (total 11 columns):\n",
      "manufacturer    234 non-null object\n",
      "model           234 non-null object\n",
      "displ           234 non-null float64\n",
      "year            234 non-null int64\n",
      "cyl             234 non-null int64\n",
      "trans           234 non-null object\n",
      "drv             234 non-null object\n",
      "cty             234 non-null int64\n",
      "hwy             234 non-null int64\n",
      "fl              234 non-null object\n",
      "class           234 non-null object\n",
      "dtypes: float64(1), int64(4), object(6)\n",
      "memory usage: 20.2+ KB\n"
     ]
    }
   ],
   "source": [
    "print(\"Here's a list of the columns with number of filled data cells in 234 rows:\")\n",
    "mpg.info()"
   ]
  },
  {
   "cell_type": "code",
   "execution_count": 4,
   "metadata": {},
   "outputs": [
    {
     "name": "stdout",
     "output_type": "stream",
     "text": [
      "Here's a list of the columns with number of empty data cells in 234 rows:\n"
     ]
    },
    {
     "data": {
      "text/plain": [
       "manufacturer    0\n",
       "model           0\n",
       "displ           0\n",
       "year            0\n",
       "cyl             0\n",
       "trans           0\n",
       "drv             0\n",
       "cty             0\n",
       "hwy             0\n",
       "fl              0\n",
       "class           0\n",
       "dtype: int64"
      ]
     },
     "execution_count": 4,
     "metadata": {},
     "output_type": "execute_result"
    }
   ],
   "source": [
    "print(\"Here's a list of the columns with number of empty data cells in 234 rows:\")\n",
    "mpg.isnull().sum()"
   ]
  },
  {
   "cell_type": "code",
   "execution_count": 5,
   "metadata": {},
   "outputs": [
    {
     "name": "stdout",
     "output_type": "stream",
     "text": [
      "In the following graph, the 'drv' data is aggregated into 3 categories (f, 4 & f) and their mean values, data ranges, and outlier points are shown for comparison.\n"
     ]
    },
    {
     "data": {
      "image/png": "[encoded data removed]",
      "text/plain": [
       "<Figure size 432x288 with 1 Axes>"
      ]
     },
     "metadata": {
      "needs_background": "light"
     },
     "output_type": "display_data"
    }
   ],
   "source": [
    "print(\"In the following graph, the 'drv' data is aggregated into 3 categories (f, 4 & f) and their mean values, data ranges, and outlier points are shown for comparison.\")\n",
    "sns.boxplot(data=mpg, x='drv', y='hwy');"
   ]
  },
  {
   "cell_type": "code",
   "execution_count": 6,
   "metadata": {},
   "outputs": [
    {
     "name": "stdout",
     "output_type": "stream",
     "text": [
      "In the following graph, the data shows that 'displ' data exhibits a fairly good, linear and inverse relationship with 'hwy'.\n"
     ]
    },
    {
     "data": {
      "image/png": "[encoded data removed]",
      "text/plain": [
       "<Figure size 540x360 with 1 Axes>"
      ]
     },
     "metadata": {
      "needs_background": "light"
     },
     "output_type": "display_data"
    }
   ],
   "source": [
    "print(\"In the following graph, the data shows that 'displ' data exhibits a fairly good, linear and inverse relationship with 'hwy'.\")\n",
    "sns.lmplot(x='displ', y='hwy', data=mpg, aspect=1.5, line_kws={'color':'green'});"
   ]
  },
  {
   "cell_type": "markdown",
   "metadata": {},
   "source": [
    "## Dummify the `drv` Variable"
   ]
  },
  {
   "cell_type": "code",
   "execution_count": 7,
   "metadata": {},
   "outputs": [
    {
     "data": {
      "text/plain": [
       "array(['f', '4', 'r'], dtype=object)"
      ]
     },
     "execution_count": 7,
     "metadata": {},
     "output_type": "execute_result"
    }
   ],
   "source": [
    "mpg.drv.unique()"
   ]
  },
  {
   "cell_type": "code",
   "execution_count": 8,
   "metadata": {},
   "outputs": [
    {
     "data": {
      "text/html": [
       "<div>\n",
       "<style scoped>\n",
       "    .dataframe tbody tr th:only-of-type {\n",
       "        vertical-align: middle;\n",
       "    }\n",
       "\n",
       "    .dataframe tbody tr th {\n",
       "        vertical-align: top;\n",
       "    }\n",
       "\n",
       "    .dataframe thead th {\n",
       "        text-align: right;\n",
       "    }\n",
       "</style>\n",
       "<table border=\"1\" class=\"dataframe\">\n",
       "  <thead>\n",
       "    <tr style=\"text-align: right;\">\n",
       "      <th></th>\n",
       "      <th>drv_4</th>\n",
       "      <th>drv_f</th>\n",
       "      <th>drv_r</th>\n",
       "    </tr>\n",
       "  </thead>\n",
       "  <tbody>\n",
       "    <tr>\n",
       "      <th>199</th>\n",
       "      <td>1</td>\n",
       "      <td>0</td>\n",
       "      <td>0</td>\n",
       "    </tr>\n",
       "    <tr>\n",
       "      <th>69</th>\n",
       "      <td>1</td>\n",
       "      <td>0</td>\n",
       "      <td>0</td>\n",
       "    </tr>\n",
       "    <tr>\n",
       "      <th>233</th>\n",
       "      <td>0</td>\n",
       "      <td>1</td>\n",
       "      <td>0</td>\n",
       "    </tr>\n",
       "    <tr>\n",
       "      <th>39</th>\n",
       "      <td>0</td>\n",
       "      <td>1</td>\n",
       "      <td>0</td>\n",
       "    </tr>\n",
       "    <tr>\n",
       "      <th>138</th>\n",
       "      <td>1</td>\n",
       "      <td>0</td>\n",
       "      <td>0</td>\n",
       "    </tr>\n",
       "    <tr>\n",
       "      <th>174</th>\n",
       "      <td>1</td>\n",
       "      <td>0</td>\n",
       "      <td>0</td>\n",
       "    </tr>\n",
       "    <tr>\n",
       "      <th>90</th>\n",
       "      <td>0</td>\n",
       "      <td>0</td>\n",
       "      <td>1</td>\n",
       "    </tr>\n",
       "    <tr>\n",
       "      <th>67</th>\n",
       "      <td>1</td>\n",
       "      <td>0</td>\n",
       "      <td>0</td>\n",
       "    </tr>\n",
       "  </tbody>\n",
       "</table>\n",
       "</div>"
      ],
      "text/plain": [
       "     drv_4  drv_f  drv_r\n",
       "199      1      0      0\n",
       "69       1      0      0\n",
       "233      0      1      0\n",
       "39       0      1      0\n",
       "138      1      0      0\n",
       "174      1      0      0\n",
       "90       0      0      1\n",
       "67       1      0      0"
      ]
     },
     "execution_count": 8,
     "metadata": {},
     "output_type": "execute_result"
    }
   ],
   "source": [
    "mpg_dummies = pd.get_dummies(mpg.drv, prefix='drv')\n",
    "mpg_dummies.sample(n=8, random_state=1)"
   ]
  },
  {
   "cell_type": "code",
   "execution_count": 9,
   "metadata": {},
   "outputs": [
    {
     "data": {
      "text/html": [
       "<div>\n",
       "<style scoped>\n",
       "    .dataframe tbody tr th:only-of-type {\n",
       "        vertical-align: middle;\n",
       "    }\n",
       "\n",
       "    .dataframe tbody tr th {\n",
       "        vertical-align: top;\n",
       "    }\n",
       "\n",
       "    .dataframe thead th {\n",
       "        text-align: right;\n",
       "    }\n",
       "</style>\n",
       "<table border=\"1\" class=\"dataframe\">\n",
       "  <thead>\n",
       "    <tr style=\"text-align: right;\">\n",
       "      <th></th>\n",
       "      <th>manufacturer</th>\n",
       "      <th>model</th>\n",
       "      <th>displ</th>\n",
       "      <th>year</th>\n",
       "      <th>cyl</th>\n",
       "      <th>trans</th>\n",
       "      <th>drv</th>\n",
       "      <th>cty</th>\n",
       "      <th>hwy</th>\n",
       "      <th>fl</th>\n",
       "      <th>class</th>\n",
       "      <th>drv_4</th>\n",
       "      <th>drv_f</th>\n",
       "      <th>drv_r</th>\n",
       "    </tr>\n",
       "  </thead>\n",
       "  <tbody>\n",
       "    <tr>\n",
       "      <th>199</th>\n",
       "      <td>toyota</td>\n",
       "      <td>land cruiser wagon 4wd</td>\n",
       "      <td>5.7</td>\n",
       "      <td>2008</td>\n",
       "      <td>8</td>\n",
       "      <td>auto(s6)</td>\n",
       "      <td>4</td>\n",
       "      <td>13</td>\n",
       "      <td>18</td>\n",
       "      <td>r</td>\n",
       "      <td>suv</td>\n",
       "      <td>1</td>\n",
       "      <td>0</td>\n",
       "      <td>0</td>\n",
       "    </tr>\n",
       "    <tr>\n",
       "      <th>69</th>\n",
       "      <td>dodge</td>\n",
       "      <td>ram 1500 pickup 4wd</td>\n",
       "      <td>4.7</td>\n",
       "      <td>2008</td>\n",
       "      <td>8</td>\n",
       "      <td>manual(m6)</td>\n",
       "      <td>4</td>\n",
       "      <td>9</td>\n",
       "      <td>12</td>\n",
       "      <td>e</td>\n",
       "      <td>pickup</td>\n",
       "      <td>1</td>\n",
       "      <td>0</td>\n",
       "      <td>0</td>\n",
       "    </tr>\n",
       "    <tr>\n",
       "      <th>233</th>\n",
       "      <td>volkswagen</td>\n",
       "      <td>passat</td>\n",
       "      <td>3.6</td>\n",
       "      <td>2008</td>\n",
       "      <td>6</td>\n",
       "      <td>auto(s6)</td>\n",
       "      <td>f</td>\n",
       "      <td>17</td>\n",
       "      <td>26</td>\n",
       "      <td>p</td>\n",
       "      <td>midsize</td>\n",
       "      <td>0</td>\n",
       "      <td>1</td>\n",
       "      <td>0</td>\n",
       "    </tr>\n",
       "    <tr>\n",
       "      <th>39</th>\n",
       "      <td>dodge</td>\n",
       "      <td>caravan 2wd</td>\n",
       "      <td>3.3</td>\n",
       "      <td>1999</td>\n",
       "      <td>6</td>\n",
       "      <td>auto(l4)</td>\n",
       "      <td>f</td>\n",
       "      <td>16</td>\n",
       "      <td>22</td>\n",
       "      <td>r</td>\n",
       "      <td>minivan</td>\n",
       "      <td>0</td>\n",
       "      <td>1</td>\n",
       "      <td>0</td>\n",
       "    </tr>\n",
       "    <tr>\n",
       "      <th>138</th>\n",
       "      <td>mercury</td>\n",
       "      <td>mountaineer 4wd</td>\n",
       "      <td>4.0</td>\n",
       "      <td>2008</td>\n",
       "      <td>6</td>\n",
       "      <td>auto(l5)</td>\n",
       "      <td>4</td>\n",
       "      <td>13</td>\n",
       "      <td>19</td>\n",
       "      <td>r</td>\n",
       "      <td>suv</td>\n",
       "      <td>1</td>\n",
       "      <td>0</td>\n",
       "      <td>0</td>\n",
       "    </tr>\n",
       "  </tbody>\n",
       "</table>\n",
       "</div>"
      ],
      "text/plain": [
       "    manufacturer                   model  displ  year  cyl       trans drv  \\\n",
       "199       toyota  land cruiser wagon 4wd    5.7  2008    8    auto(s6)   4   \n",
       "69         dodge     ram 1500 pickup 4wd    4.7  2008    8  manual(m6)   4   \n",
       "233   volkswagen                  passat    3.6  2008    6    auto(s6)   f   \n",
       "39         dodge             caravan 2wd    3.3  1999    6    auto(l4)   f   \n",
       "138      mercury         mountaineer 4wd    4.0  2008    6    auto(l5)   4   \n",
       "\n",
       "     cty  hwy fl    class  drv_4  drv_f  drv_r  \n",
       "199   13   18  r      suv      1      0      0  \n",
       "69     9   12  e   pickup      1      0      0  \n",
       "233   17   26  p  midsize      0      1      0  \n",
       "39    16   22  r  minivan      0      1      0  \n",
       "138   13   19  r      suv      1      0      0  "
      ]
     },
     "execution_count": 9,
     "metadata": {},
     "output_type": "execute_result"
    }
   ],
   "source": [
    "# Concatenate the original DataFrame and the dummy DataFrame.\n",
    "mpg_dummies = pd.concat([mpg, mpg_dummies], axis=1)\n",
    "\n",
    "# Print five random rows, just to check it out....\n",
    "mpg_dummies.sample(n=5, random_state=1)"
   ]
  },
  {
   "cell_type": "code",
   "execution_count": 10,
   "metadata": {},
   "outputs": [],
   "source": [
    "# Get rid of unnecessary columns for production of the model.\n",
    "mpg_dummies.drop(['manufacturer', 'model', 'year', 'cyl', 'trans', 'drv', 'drv_4','cty', 'fl', 'class'], axis=1, inplace=True)"
   ]
  },
  {
   "cell_type": "code",
   "execution_count": 11,
   "metadata": {},
   "outputs": [
    {
     "data": {
      "text/html": [
       "<div>\n",
       "<style scoped>\n",
       "    .dataframe tbody tr th:only-of-type {\n",
       "        vertical-align: middle;\n",
       "    }\n",
       "\n",
       "    .dataframe tbody tr th {\n",
       "        vertical-align: top;\n",
       "    }\n",
       "\n",
       "    .dataframe thead th {\n",
       "        text-align: right;\n",
       "    }\n",
       "</style>\n",
       "<table border=\"1\" class=\"dataframe\">\n",
       "  <thead>\n",
       "    <tr style=\"text-align: right;\">\n",
       "      <th></th>\n",
       "      <th>displ</th>\n",
       "      <th>hwy</th>\n",
       "      <th>drv_f</th>\n",
       "      <th>drv_r</th>\n",
       "    </tr>\n",
       "  </thead>\n",
       "  <tbody>\n",
       "    <tr>\n",
       "      <th>0</th>\n",
       "      <td>1.8</td>\n",
       "      <td>29</td>\n",
       "      <td>1</td>\n",
       "      <td>0</td>\n",
       "    </tr>\n",
       "    <tr>\n",
       "      <th>1</th>\n",
       "      <td>1.8</td>\n",
       "      <td>29</td>\n",
       "      <td>1</td>\n",
       "      <td>0</td>\n",
       "    </tr>\n",
       "    <tr>\n",
       "      <th>2</th>\n",
       "      <td>2.0</td>\n",
       "      <td>31</td>\n",
       "      <td>1</td>\n",
       "      <td>0</td>\n",
       "    </tr>\n",
       "    <tr>\n",
       "      <th>3</th>\n",
       "      <td>2.0</td>\n",
       "      <td>30</td>\n",
       "      <td>1</td>\n",
       "      <td>0</td>\n",
       "    </tr>\n",
       "    <tr>\n",
       "      <th>4</th>\n",
       "      <td>2.8</td>\n",
       "      <td>26</td>\n",
       "      <td>1</td>\n",
       "      <td>0</td>\n",
       "    </tr>\n",
       "  </tbody>\n",
       "</table>\n",
       "</div>"
      ],
      "text/plain": [
       "   displ  hwy  drv_f  drv_r\n",
       "0    1.8   29      1      0\n",
       "1    1.8   29      1      0\n",
       "2    2.0   31      1      0\n",
       "3    2.0   30      1      0\n",
       "4    2.8   26      1      0"
      ]
     },
     "execution_count": 11,
     "metadata": {},
     "output_type": "execute_result"
    }
   ],
   "source": [
    "# Display the columns for the data below.\n",
    "mpg_dummies.head()"
   ]
  },
  {
   "cell_type": "markdown",
   "metadata": {},
   "source": [
    "## Split your data into train/test data\n",
    "You only need to keep the `displ` and `drv` variable(s) here, as those are the only columns you'll be fitting your model on in the next section.\n",
    "\n",
    "Look at the size of your data. What is a good proportion for your split? **Justify your answer.**\n",
    "\n",
    "**NOTE:** When doing your train/test split, please use random seed 123."
   ]
  },
  {
   "cell_type": "markdown",
   "metadata": {},
   "source": [
    "#### Explanation\n",
    "It looks like most people use between 90/10 and 70/30 depending upon the amount of data in the dataset. Ours has 234 values.<br> \n",
    "I ran the below training/test set linear regression loop - changing the 'test_size' variable and recording the corresponding RMSE value.<br>\n",
    "While the 94/6 split's RMSE appears to be the lowest, this would only include 14 test set points.<br>\n",
    "So, I'd opt for a 79/21 split which is the biggest drip while still maintaining the highest number of test set points at 49.<br>\n",
    "For future purposes....I'll just include it as an 80/20 split (test_size=0.20)."
   ]
  },
  {
   "cell_type": "code",
   "execution_count": 12,
   "metadata": {},
   "outputs": [
    {
     "name": "stdout",
     "output_type": "stream",
     "text": [
      "99 / 1 split, with the resulting RMSE: 2.6055986316231117\n",
      "\t 232 training set points & 2 test set points\n",
      "94 / 6 split, with the resulting RMSE: 2.44621161034661\n",
      "\t 220 training set points & 14 test set points\n",
      "89 / 11 split, with the resulting RMSE: 2.501489713765131\n",
      "\t 208 training set points & 26 test set points\n",
      "84 / 16 split, with the resulting RMSE: 2.6476393100732163\n",
      "\t 197 training set points & 37 test set points\n",
      "79 / 21 split, with the resulting RMSE: 2.681676275077574\n",
      "\t 185 training set points & 49 test set points\n",
      "74 / 26 split, with the resulting RMSE: 3.3267455780402426\n",
      "\t 173 training set points & 61 test set points\n",
      "69 / 31 split, with the resulting RMSE: 3.2036802619715488\n",
      "\t 161 training set points & 73 test set points\n",
      "64 / 36 split, with the resulting RMSE: 3.378211877497126\n",
      "\t 150 training set points & 84 test set points\n"
     ]
    }
   ],
   "source": [
    "# Create X and y.\n",
    "FEATURE_COLS = ['displ', 'drv_f', 'drv_r']\n",
    "X = mpg_dummies[FEATURE_COLS]\n",
    "y = mpg_dummies.hwy\n",
    "\n",
    "# Create training and test sets at various ratios (test_sizes) and calculate the RMSE for each regression for each.\n",
    "for i in range(1, 40, 5):\n",
    "    t = i/100\n",
    "    X_train, X_test, y_train, y_test = train_test_split(X, y, test_size=t, random_state=123)\n",
    "\n",
    "    linreg = LinearRegression()\n",
    "    linreg.fit(X_train, y_train)\n",
    "    \n",
    "    y_pred = linreg.predict(X_test)\n",
    "    print((round((1-t)*100)), '/', (round(t*100)), 'split, with the resulting RMSE:', np.sqrt(mean_squared_error(y_test, y_pred)))\n",
    "    print(\"\\t\", (round((1-t)*234)), 'training set points &', (round(t*234)), 'test set points')"
   ]
  },
  {
   "cell_type": "markdown",
   "metadata": {},
   "source": [
    "## Fit a Linear Regression model predicting Highway MPG\n",
    "You must use exactly these two variables: `displ` and `drv`."
   ]
  },
  {
   "cell_type": "code",
   "execution_count": 13,
   "metadata": {},
   "outputs": [
    {
     "name": "stdout",
     "output_type": "stream",
     "text": [
      "intercept = 36.41351848951142\n",
      "slope = [-3.72600879]\n"
     ]
    }
   ],
   "source": [
    "# Set X and y.\n",
    "FEATURE_COLS = ['displ']\n",
    "X = mpg_dummies[FEATURE_COLS]\n",
    "y = mpg_dummies.hwy\n",
    "\n",
    "# Create 80/20 training and test sets.\n",
    "X_train, X_test, y_train, y_test = train_test_split(X, y, test_size=0.20, random_state=123)\n",
    "\n",
    "# Instantiate the linear regression model.\n",
    "linreg = LinearRegression()\n",
    "linreg.fit(X_train, y_train)\n",
    "\n",
    "y_pred = linreg.predict(X_test)\n",
    "\n",
    "# Print the coefficients.\n",
    "print('intercept =', linreg.intercept_)\n",
    "print(\"slope =\", linreg.coef_)"
   ]
  },
  {
   "cell_type": "markdown",
   "metadata": {},
   "source": [
    "## Evaluate your model\n",
    "Look at some evaluation metrics for **both** the training and test data. How did your model do? Is it overfit, underfit, or neither?"
   ]
  },
  {
   "cell_type": "markdown",
   "metadata": {},
   "source": [
    "#### How'd the model do?\n",
    "Based on the mse & rmse data for training set and testing set - the model is pretty equivalent for each.<br>\n",
    "The slightly larger Training set has slightly larger values than the smaller Training set, which is not unusual for data with a fairly high data deviation and some outliers.<br>\n",
    "The graph below, with blue/cyan data points and green prediction line, displays the information for a visual comparison.<br>\n",
    "The data distribution for both datasets and the linear regression prediction appear to fit well."
   ]
  },
  {
   "cell_type": "code",
   "execution_count": 14,
   "metadata": {},
   "outputs": [
    {
     "name": "stdout",
     "output_type": "stream",
     "text": [
      "Model Mean Square Errors for the:\n",
      "Training Set = 15.23583851627303\n",
      "Testing Set = 12.33844465628183\n",
      "\n",
      "Model Root Mean Square Errors for the:\n",
      "Training Set = 3.9033112246236565\n",
      "Testing Set = 3.512612226859354\n"
     ]
    }
   ],
   "source": [
    "print('Model Mean Square Errors for the:')\n",
    "print('Training Set =', mean_squared_error(linreg.predict(X_train), y_train))\n",
    "print('Testing Set =', mean_squared_error(linreg.predict(X_test), y_test))\n",
    "\n",
    "print('\\nModel Root Mean Square Errors for the:')\n",
    "print('Training Set =', np.sqrt(mean_squared_error(linreg.predict(X_train), y_train)))\n",
    "print('Testing Set =', np.sqrt(mean_squared_error(linreg.predict(X_test), y_test)))"
   ]
  },
  {
   "cell_type": "code",
   "execution_count": 15,
   "metadata": {},
   "outputs": [
    {
     "data": {
      "image/png": "[encoded data removed]",
      "text/plain": [
       "<Figure size 432x288 with 1 Axes>"
      ]
     },
     "metadata": {
      "needs_background": "light"
     },
     "output_type": "display_data"
    }
   ],
   "source": [
    "plt.scatter(X_test, y_test,  color='blue', label='Testing dataset')\n",
    "plt.scatter(X_train, y_train,  color='cyan', label='Training dataset')\n",
    "plt.plot(X_test, y_pred, color='green', linewidth=2)\n",
    "plt.title('Data (blue/cyan) scatter plot with prediction line (green)')\n",
    "plt.ylabel(\"Highway miles per gallon ('hwy')\")\n",
    "plt.xlabel(\"Engine Displacement ('displ')\")\n",
    "plt.legend(loc='upper right');\n",
    "plt.text(2.1, 35, \"y_pred = 36.41 + (-1.86)x\", color='green', size=14)\n",
    "plt.show()"
   ]
  },
  {
   "cell_type": "code",
   "execution_count": null,
   "metadata": {},
   "outputs": [],
   "source": []
  },
  {
   "cell_type": "markdown",
   "metadata": {},
   "source": [
    "# Part 2: Classification using KNN"
   ]
  },
  {
   "cell_type": "markdown",
   "metadata": {},
   "source": [
    "## Read in the Diamonds data\n",
    "This is data regarding 50,000 round cut diamonds."
   ]
  },
  {
   "cell_type": "code",
   "execution_count": 16,
   "metadata": {},
   "outputs": [],
   "source": [
    "diamonds = pd.read_csv('./data/diamonds.csv')"
   ]
  },
  {
   "cell_type": "markdown",
   "metadata": {},
   "source": [
    "## Explore the data"
   ]
  },
  {
   "cell_type": "code",
   "execution_count": 17,
   "metadata": {},
   "outputs": [
    {
     "data": {
      "text/plain": [
       "(53940, 10)"
      ]
     },
     "execution_count": 17,
     "metadata": {},
     "output_type": "execute_result"
    }
   ],
   "source": [
    "diamonds.shape"
   ]
  },
  {
   "cell_type": "code",
   "execution_count": 18,
   "metadata": {},
   "outputs": [
    {
     "name": "stdout",
     "output_type": "stream",
     "text": [
      "<class 'pandas.core.frame.DataFrame'>\n",
      "RangeIndex: 53940 entries, 0 to 53939\n",
      "Data columns (total 10 columns):\n",
      "carat      53940 non-null float64\n",
      "cut        53940 non-null object\n",
      "color      53940 non-null object\n",
      "clarity    53940 non-null object\n",
      "depth      53940 non-null float64\n",
      "table      53940 non-null float64\n",
      "price      53940 non-null int64\n",
      "x          53940 non-null float64\n",
      "y          53940 non-null float64\n",
      "z          53940 non-null float64\n",
      "dtypes: float64(6), int64(1), object(3)\n",
      "memory usage: 4.1+ MB\n"
     ]
    }
   ],
   "source": [
    "diamonds.info()"
   ]
  },
  {
   "cell_type": "code",
   "execution_count": 19,
   "metadata": {},
   "outputs": [
    {
     "data": {
      "text/html": [
       "<div>\n",
       "<style scoped>\n",
       "    .dataframe tbody tr th:only-of-type {\n",
       "        vertical-align: middle;\n",
       "    }\n",
       "\n",
       "    .dataframe tbody tr th {\n",
       "        vertical-align: top;\n",
       "    }\n",
       "\n",
       "    .dataframe thead th {\n",
       "        text-align: right;\n",
       "    }\n",
       "</style>\n",
       "<table border=\"1\" class=\"dataframe\">\n",
       "  <thead>\n",
       "    <tr style=\"text-align: right;\">\n",
       "      <th></th>\n",
       "      <th>carat</th>\n",
       "      <th>cut</th>\n",
       "      <th>color</th>\n",
       "      <th>clarity</th>\n",
       "      <th>depth</th>\n",
       "      <th>table</th>\n",
       "      <th>price</th>\n",
       "      <th>x</th>\n",
       "      <th>y</th>\n",
       "      <th>z</th>\n",
       "    </tr>\n",
       "  </thead>\n",
       "  <tbody>\n",
       "    <tr>\n",
       "      <th>0</th>\n",
       "      <td>0.23</td>\n",
       "      <td>Ideal</td>\n",
       "      <td>E</td>\n",
       "      <td>SI2</td>\n",
       "      <td>61.5</td>\n",
       "      <td>55.0</td>\n",
       "      <td>326</td>\n",
       "      <td>3.95</td>\n",
       "      <td>3.98</td>\n",
       "      <td>2.43</td>\n",
       "    </tr>\n",
       "    <tr>\n",
       "      <th>1</th>\n",
       "      <td>0.21</td>\n",
       "      <td>Premium</td>\n",
       "      <td>E</td>\n",
       "      <td>SI1</td>\n",
       "      <td>59.8</td>\n",
       "      <td>61.0</td>\n",
       "      <td>326</td>\n",
       "      <td>3.89</td>\n",
       "      <td>3.84</td>\n",
       "      <td>2.31</td>\n",
       "    </tr>\n",
       "    <tr>\n",
       "      <th>2</th>\n",
       "      <td>0.23</td>\n",
       "      <td>Good</td>\n",
       "      <td>E</td>\n",
       "      <td>VS1</td>\n",
       "      <td>56.9</td>\n",
       "      <td>65.0</td>\n",
       "      <td>327</td>\n",
       "      <td>4.05</td>\n",
       "      <td>4.07</td>\n",
       "      <td>2.31</td>\n",
       "    </tr>\n",
       "    <tr>\n",
       "      <th>3</th>\n",
       "      <td>0.29</td>\n",
       "      <td>Premium</td>\n",
       "      <td>I</td>\n",
       "      <td>VS2</td>\n",
       "      <td>62.4</td>\n",
       "      <td>58.0</td>\n",
       "      <td>334</td>\n",
       "      <td>4.20</td>\n",
       "      <td>4.23</td>\n",
       "      <td>2.63</td>\n",
       "    </tr>\n",
       "    <tr>\n",
       "      <th>4</th>\n",
       "      <td>0.31</td>\n",
       "      <td>Good</td>\n",
       "      <td>J</td>\n",
       "      <td>SI2</td>\n",
       "      <td>63.3</td>\n",
       "      <td>58.0</td>\n",
       "      <td>335</td>\n",
       "      <td>4.34</td>\n",
       "      <td>4.35</td>\n",
       "      <td>2.75</td>\n",
       "    </tr>\n",
       "  </tbody>\n",
       "</table>\n",
       "</div>"
      ],
      "text/plain": [
       "   carat      cut color clarity  depth  table  price     x     y     z\n",
       "0   0.23    Ideal     E     SI2   61.5   55.0    326  3.95  3.98  2.43\n",
       "1   0.21  Premium     E     SI1   59.8   61.0    326  3.89  3.84  2.31\n",
       "2   0.23     Good     E     VS1   56.9   65.0    327  4.05  4.07  2.31\n",
       "3   0.29  Premium     I     VS2   62.4   58.0    334  4.20  4.23  2.63\n",
       "4   0.31     Good     J     SI2   63.3   58.0    335  4.34  4.35  2.75"
      ]
     },
     "execution_count": 19,
     "metadata": {},
     "output_type": "execute_result"
    }
   ],
   "source": [
    "diamonds.head()"
   ]
  },
  {
   "cell_type": "markdown",
   "metadata": {},
   "source": [
    "## Filter your data\n",
    "Filter your data to only contain diamonds of cuts \"Ideal\" and \"Good\""
   ]
  },
  {
   "cell_type": "code",
   "execution_count": 49,
   "metadata": {},
   "outputs": [
    {
     "data": {
      "text/html": [
       "<div>\n",
       "<style scoped>\n",
       "    .dataframe tbody tr th:only-of-type {\n",
       "        vertical-align: middle;\n",
       "    }\n",
       "\n",
       "    .dataframe tbody tr th {\n",
       "        vertical-align: top;\n",
       "    }\n",
       "\n",
       "    .dataframe thead th {\n",
       "        text-align: right;\n",
       "    }\n",
       "</style>\n",
       "<table border=\"1\" class=\"dataframe\">\n",
       "  <thead>\n",
       "    <tr style=\"text-align: right;\">\n",
       "      <th></th>\n",
       "      <th>carat</th>\n",
       "      <th>cut</th>\n",
       "      <th>color</th>\n",
       "      <th>clarity</th>\n",
       "      <th>depth</th>\n",
       "      <th>table</th>\n",
       "      <th>price</th>\n",
       "      <th>x</th>\n",
       "      <th>y</th>\n",
       "      <th>z</th>\n",
       "    </tr>\n",
       "  </thead>\n",
       "  <tbody>\n",
       "    <tr>\n",
       "      <th>0</th>\n",
       "      <td>0.23</td>\n",
       "      <td>Ideal</td>\n",
       "      <td>E</td>\n",
       "      <td>SI2</td>\n",
       "      <td>61.5</td>\n",
       "      <td>55.0</td>\n",
       "      <td>326</td>\n",
       "      <td>3.95</td>\n",
       "      <td>3.98</td>\n",
       "      <td>2.43</td>\n",
       "    </tr>\n",
       "    <tr>\n",
       "      <th>2</th>\n",
       "      <td>0.23</td>\n",
       "      <td>Good</td>\n",
       "      <td>E</td>\n",
       "      <td>VS1</td>\n",
       "      <td>56.9</td>\n",
       "      <td>65.0</td>\n",
       "      <td>327</td>\n",
       "      <td>4.05</td>\n",
       "      <td>4.07</td>\n",
       "      <td>2.31</td>\n",
       "    </tr>\n",
       "    <tr>\n",
       "      <th>4</th>\n",
       "      <td>0.31</td>\n",
       "      <td>Good</td>\n",
       "      <td>J</td>\n",
       "      <td>SI2</td>\n",
       "      <td>63.3</td>\n",
       "      <td>58.0</td>\n",
       "      <td>335</td>\n",
       "      <td>4.34</td>\n",
       "      <td>4.35</td>\n",
       "      <td>2.75</td>\n",
       "    </tr>\n",
       "    <tr>\n",
       "      <th>10</th>\n",
       "      <td>0.30</td>\n",
       "      <td>Good</td>\n",
       "      <td>J</td>\n",
       "      <td>SI1</td>\n",
       "      <td>64.0</td>\n",
       "      <td>55.0</td>\n",
       "      <td>339</td>\n",
       "      <td>4.25</td>\n",
       "      <td>4.28</td>\n",
       "      <td>2.73</td>\n",
       "    </tr>\n",
       "    <tr>\n",
       "      <th>11</th>\n",
       "      <td>0.23</td>\n",
       "      <td>Ideal</td>\n",
       "      <td>J</td>\n",
       "      <td>VS1</td>\n",
       "      <td>62.8</td>\n",
       "      <td>56.0</td>\n",
       "      <td>340</td>\n",
       "      <td>3.93</td>\n",
       "      <td>3.90</td>\n",
       "      <td>2.46</td>\n",
       "    </tr>\n",
       "  </tbody>\n",
       "</table>\n",
       "</div>"
      ],
      "text/plain": [
       "    carat    cut color clarity  depth  table  price     x     y     z\n",
       "0    0.23  Ideal     E     SI2   61.5   55.0    326  3.95  3.98  2.43\n",
       "2    0.23   Good     E     VS1   56.9   65.0    327  4.05  4.07  2.31\n",
       "4    0.31   Good     J     SI2   63.3   58.0    335  4.34  4.35  2.75\n",
       "10   0.30   Good     J     SI1   64.0   55.0    339  4.25  4.28  2.73\n",
       "11   0.23  Ideal     J     VS1   62.8   56.0    340  3.93  3.90  2.46"
      ]
     },
     "execution_count": 49,
     "metadata": {},
     "output_type": "execute_result"
    }
   ],
   "source": [
    "filtered_diamonds = diamonds.loc[diamonds['cut'].isin(['Ideal','Good'])]\n",
    "filtered_diamonds.head()"
   ]
  },
  {
   "cell_type": "markdown",
   "metadata": {},
   "source": [
    "## Prepare your X, y matrices\n",
    "Construct an `X` matrix using **all numeric columns** from the diamond data.\n",
    "\n",
    "You will be predicting `cut`. Construct a `y` vector in a numeric format that can be used by scikit-learn."
   ]
  },
  {
   "cell_type": "code",
   "execution_count": 50,
   "metadata": {},
   "outputs": [
    {
     "name": "stdout",
     "output_type": "stream",
     "text": [
      "Y-values = (26457,)\n",
      "X-values rows & columns = (26457, 7)\n"
     ]
    },
    {
     "data": {
      "text/html": [
       "<div>\n",
       "<style scoped>\n",
       "    .dataframe tbody tr th:only-of-type {\n",
       "        vertical-align: middle;\n",
       "    }\n",
       "\n",
       "    .dataframe tbody tr th {\n",
       "        vertical-align: top;\n",
       "    }\n",
       "\n",
       "    .dataframe thead th {\n",
       "        text-align: right;\n",
       "    }\n",
       "</style>\n",
       "<table border=\"1\" class=\"dataframe\">\n",
       "  <thead>\n",
       "    <tr style=\"text-align: right;\">\n",
       "      <th></th>\n",
       "      <th>carat</th>\n",
       "      <th>depth</th>\n",
       "      <th>table</th>\n",
       "      <th>price</th>\n",
       "      <th>x</th>\n",
       "      <th>y</th>\n",
       "      <th>z</th>\n",
       "    </tr>\n",
       "  </thead>\n",
       "  <tbody>\n",
       "    <tr>\n",
       "      <th>0</th>\n",
       "      <td>0.23</td>\n",
       "      <td>61.5</td>\n",
       "      <td>55.0</td>\n",
       "      <td>326</td>\n",
       "      <td>3.95</td>\n",
       "      <td>3.98</td>\n",
       "      <td>2.43</td>\n",
       "    </tr>\n",
       "    <tr>\n",
       "      <th>2</th>\n",
       "      <td>0.23</td>\n",
       "      <td>56.9</td>\n",
       "      <td>65.0</td>\n",
       "      <td>327</td>\n",
       "      <td>4.05</td>\n",
       "      <td>4.07</td>\n",
       "      <td>2.31</td>\n",
       "    </tr>\n",
       "    <tr>\n",
       "      <th>4</th>\n",
       "      <td>0.31</td>\n",
       "      <td>63.3</td>\n",
       "      <td>58.0</td>\n",
       "      <td>335</td>\n",
       "      <td>4.34</td>\n",
       "      <td>4.35</td>\n",
       "      <td>2.75</td>\n",
       "    </tr>\n",
       "    <tr>\n",
       "      <th>10</th>\n",
       "      <td>0.30</td>\n",
       "      <td>64.0</td>\n",
       "      <td>55.0</td>\n",
       "      <td>339</td>\n",
       "      <td>4.25</td>\n",
       "      <td>4.28</td>\n",
       "      <td>2.73</td>\n",
       "    </tr>\n",
       "    <tr>\n",
       "      <th>11</th>\n",
       "      <td>0.23</td>\n",
       "      <td>62.8</td>\n",
       "      <td>56.0</td>\n",
       "      <td>340</td>\n",
       "      <td>3.93</td>\n",
       "      <td>3.90</td>\n",
       "      <td>2.46</td>\n",
       "    </tr>\n",
       "  </tbody>\n",
       "</table>\n",
       "</div>"
      ],
      "text/plain": [
       "    carat  depth  table  price     x     y     z\n",
       "0    0.23   61.5   55.0    326  3.95  3.98  2.43\n",
       "2    0.23   56.9   65.0    327  4.05  4.07  2.31\n",
       "4    0.31   63.3   58.0    335  4.34  4.35  2.75\n",
       "10   0.30   64.0   55.0    339  4.25  4.28  2.73\n",
       "11   0.23   62.8   56.0    340  3.93  3.90  2.46"
      ]
     },
     "execution_count": 50,
     "metadata": {},
     "output_type": "execute_result"
    }
   ],
   "source": [
    "# Create feature matrix (X) and a response vector (y).\n",
    "FEATURE_COLS = ['carat', 'depth', 'table', 'price', 'x', 'y', 'z']\n",
    "X = filtered_diamonds[FEATURE_COLS]\n",
    "y = filtered_diamonds.cut\n",
    "\n",
    "print('Y-values =', y.shape)\n",
    "print('X-values rows & columns =', X.shape)\n",
    "X.head()"
   ]
  },
  {
   "cell_type": "markdown",
   "metadata": {},
   "source": [
    "## Scale your X matrix using a Standard Scaler"
   ]
  },
  {
   "cell_type": "code",
   "execution_count": 51,
   "metadata": {},
   "outputs": [
    {
     "name": "stdout",
     "output_type": "stream",
     "text": [
      "Take a look at the axes of each of these column histograms.\n",
      "Note that the actual values and distribution.\n"
     ]
    },
    {
     "data": {
      "image/png": "[encoded data removed]",
      "text/plain": [
       "<Figure size 720x720 with 9 Axes>"
      ]
     },
     "metadata": {
      "needs_background": "light"
     },
     "output_type": "display_data"
    }
   ],
   "source": [
    "print('Take a look at the axes of each of these column histograms.')\n",
    "print('Note that the actual values and distribution.')\n",
    "X.hist(figsize=(10, 10));"
   ]
  },
  {
   "cell_type": "code",
   "execution_count": 52,
   "metadata": {},
   "outputs": [
    {
     "name": "stdout",
     "output_type": "stream",
     "text": [
      "Before scaling:\n"
     ]
    },
    {
     "data": {
      "text/html": [
       "<div>\n",
       "<style scoped>\n",
       "    .dataframe tbody tr th:only-of-type {\n",
       "        vertical-align: middle;\n",
       "    }\n",
       "\n",
       "    .dataframe tbody tr th {\n",
       "        vertical-align: top;\n",
       "    }\n",
       "\n",
       "    .dataframe thead th {\n",
       "        text-align: right;\n",
       "    }\n",
       "</style>\n",
       "<table border=\"1\" class=\"dataframe\">\n",
       "  <thead>\n",
       "    <tr style=\"text-align: right;\">\n",
       "      <th></th>\n",
       "      <th>carat</th>\n",
       "      <th>depth</th>\n",
       "      <th>table</th>\n",
       "      <th>price</th>\n",
       "      <th>x</th>\n",
       "      <th>y</th>\n",
       "      <th>z</th>\n",
       "    </tr>\n",
       "  </thead>\n",
       "  <tbody>\n",
       "    <tr>\n",
       "      <th>count</th>\n",
       "      <td>26457.000000</td>\n",
       "      <td>26457.000000</td>\n",
       "      <td>26457.000000</td>\n",
       "      <td>26457.000000</td>\n",
       "      <td>26457.000000</td>\n",
       "      <td>26457.000000</td>\n",
       "      <td>26457.000000</td>\n",
       "    </tr>\n",
       "    <tr>\n",
       "      <th>mean</th>\n",
       "      <td>0.729975</td>\n",
       "      <td>61.831134</td>\n",
       "      <td>56.460305</td>\n",
       "      <td>3544.940696</td>\n",
       "      <td>5.568891</td>\n",
       "      <td>5.581396</td>\n",
       "      <td>3.445592</td>\n",
       "    </tr>\n",
       "    <tr>\n",
       "      <th>std</th>\n",
       "      <td>0.440559</td>\n",
       "      <td>1.165414</td>\n",
       "      <td>1.977192</td>\n",
       "      <td>3789.568408</td>\n",
       "      <td>1.070685</td>\n",
       "      <td>1.077944</td>\n",
       "      <td>0.663607</td>\n",
       "    </tr>\n",
       "    <tr>\n",
       "      <th>min</th>\n",
       "      <td>0.200000</td>\n",
       "      <td>43.000000</td>\n",
       "      <td>43.000000</td>\n",
       "      <td>326.000000</td>\n",
       "      <td>0.000000</td>\n",
       "      <td>0.000000</td>\n",
       "      <td>0.000000</td>\n",
       "    </tr>\n",
       "    <tr>\n",
       "      <th>25%</th>\n",
       "      <td>0.360000</td>\n",
       "      <td>61.300000</td>\n",
       "      <td>55.000000</td>\n",
       "      <td>895.000000</td>\n",
       "      <td>4.600000</td>\n",
       "      <td>4.610000</td>\n",
       "      <td>2.840000</td>\n",
       "    </tr>\n",
       "    <tr>\n",
       "      <th>50%</th>\n",
       "      <td>0.570000</td>\n",
       "      <td>61.900000</td>\n",
       "      <td>56.000000</td>\n",
       "      <td>1949.000000</td>\n",
       "      <td>5.330000</td>\n",
       "      <td>5.340000</td>\n",
       "      <td>3.280000</td>\n",
       "    </tr>\n",
       "    <tr>\n",
       "      <th>75%</th>\n",
       "      <td>1.010000</td>\n",
       "      <td>62.400000</td>\n",
       "      <td>57.000000</td>\n",
       "      <td>4770.000000</td>\n",
       "      <td>6.430000</td>\n",
       "      <td>6.440000</td>\n",
       "      <td>3.990000</td>\n",
       "    </tr>\n",
       "    <tr>\n",
       "      <th>max</th>\n",
       "      <td>3.500000</td>\n",
       "      <td>67.000000</td>\n",
       "      <td>66.000000</td>\n",
       "      <td>18806.000000</td>\n",
       "      <td>9.650000</td>\n",
       "      <td>31.800000</td>\n",
       "      <td>6.030000</td>\n",
       "    </tr>\n",
       "  </tbody>\n",
       "</table>\n",
       "</div>"
      ],
      "text/plain": [
       "              carat         depth         table         price             x  \\\n",
       "count  26457.000000  26457.000000  26457.000000  26457.000000  26457.000000   \n",
       "mean       0.729975     61.831134     56.460305   3544.940696      5.568891   \n",
       "std        0.440559      1.165414      1.977192   3789.568408      1.070685   \n",
       "min        0.200000     43.000000     43.000000    326.000000      0.000000   \n",
       "25%        0.360000     61.300000     55.000000    895.000000      4.600000   \n",
       "50%        0.570000     61.900000     56.000000   1949.000000      5.330000   \n",
       "75%        1.010000     62.400000     57.000000   4770.000000      6.430000   \n",
       "max        3.500000     67.000000     66.000000  18806.000000      9.650000   \n",
       "\n",
       "                  y             z  \n",
       "count  26457.000000  26457.000000  \n",
       "mean       5.581396      3.445592  \n",
       "std        1.077944      0.663607  \n",
       "min        0.000000      0.000000  \n",
       "25%        4.610000      2.840000  \n",
       "50%        5.340000      3.280000  \n",
       "75%        6.440000      3.990000  \n",
       "max       31.800000      6.030000  "
      ]
     },
     "execution_count": 52,
     "metadata": {},
     "output_type": "execute_result"
    }
   ],
   "source": [
    "print('Before scaling:')\n",
    "filtered_diamonds.describe()"
   ]
  },
  {
   "cell_type": "code",
   "execution_count": 115,
   "metadata": {},
   "outputs": [],
   "source": [
    "# Use the StandardScaler() function to convert the values into non-unitized distributions\n",
    "scaler = StandardScaler()\n",
    "scaler.fit(X)\n",
    "Xscaled = scaler.transform(X)"
   ]
  },
  {
   "cell_type": "code",
   "execution_count": 54,
   "metadata": {},
   "outputs": [
    {
     "name": "stdout",
     "output_type": "stream",
     "text": [
      "Note that all data can now be shown on a single histogram with the x-axis distribution as very narrow.\n"
     ]
    },
    {
     "data": {
      "image/png": "[encoded data removed]",
      "text/plain": [
       "<Figure size 432x288 with 1 Axes>"
      ]
     },
     "metadata": {
      "needs_background": "light"
     },
     "output_type": "display_data"
    }
   ],
   "source": [
    "print('Note that all data can now be shown on a single histogram with the x-axis distribution as very narrow.')\n",
    "plt.hist(Xscaled[:,1]);"
   ]
  },
  {
   "cell_type": "code",
   "execution_count": 55,
   "metadata": {},
   "outputs": [
    {
     "name": "stdout",
     "output_type": "stream",
     "text": [
      "After scaling:\n"
     ]
    },
    {
     "data": {
      "text/html": [
       "<div>\n",
       "<style scoped>\n",
       "    .dataframe tbody tr th:only-of-type {\n",
       "        vertical-align: middle;\n",
       "    }\n",
       "\n",
       "    .dataframe tbody tr th {\n",
       "        vertical-align: top;\n",
       "    }\n",
       "\n",
       "    .dataframe thead th {\n",
       "        text-align: right;\n",
       "    }\n",
       "</style>\n",
       "<table border=\"1\" class=\"dataframe\">\n",
       "  <thead>\n",
       "    <tr style=\"text-align: right;\">\n",
       "      <th></th>\n",
       "      <th>0</th>\n",
       "      <th>1</th>\n",
       "      <th>2</th>\n",
       "      <th>3</th>\n",
       "      <th>4</th>\n",
       "      <th>5</th>\n",
       "      <th>6</th>\n",
       "    </tr>\n",
       "  </thead>\n",
       "  <tbody>\n",
       "    <tr>\n",
       "      <th>count</th>\n",
       "      <td>2.645700e+04</td>\n",
       "      <td>2.645700e+04</td>\n",
       "      <td>2.645700e+04</td>\n",
       "      <td>2.645700e+04</td>\n",
       "      <td>2.645700e+04</td>\n",
       "      <td>2.645700e+04</td>\n",
       "      <td>2.645700e+04</td>\n",
       "    </tr>\n",
       "    <tr>\n",
       "      <th>mean</th>\n",
       "      <td>9.836880e-15</td>\n",
       "      <td>6.136843e-15</td>\n",
       "      <td>-1.225669e-14</td>\n",
       "      <td>2.223069e-16</td>\n",
       "      <td>-4.182749e-15</td>\n",
       "      <td>-3.660987e-15</td>\n",
       "      <td>1.648061e-14</td>\n",
       "    </tr>\n",
       "    <tr>\n",
       "      <th>std</th>\n",
       "      <td>1.000019e+00</td>\n",
       "      <td>1.000019e+00</td>\n",
       "      <td>1.000019e+00</td>\n",
       "      <td>1.000019e+00</td>\n",
       "      <td>1.000019e+00</td>\n",
       "      <td>1.000019e+00</td>\n",
       "      <td>1.000019e+00</td>\n",
       "    </tr>\n",
       "    <tr>\n",
       "      <th>min</th>\n",
       "      <td>-1.202982e+00</td>\n",
       "      <td>-1.615862e+01</td>\n",
       "      <td>-6.807917e+00</td>\n",
       "      <td>-8.494375e-01</td>\n",
       "      <td>-5.201340e+00</td>\n",
       "      <td>-5.177916e+00</td>\n",
       "      <td>-5.192314e+00</td>\n",
       "    </tr>\n",
       "    <tr>\n",
       "      <th>25%</th>\n",
       "      <td>-8.397999e-01</td>\n",
       "      <td>-4.557552e-01</td>\n",
       "      <td>-7.385894e-01</td>\n",
       "      <td>-6.992856e-01</td>\n",
       "      <td>-9.049435e-01</td>\n",
       "      <td>-9.011735e-01</td>\n",
       "      <td>-9.125933e-01</td>\n",
       "    </tr>\n",
       "    <tr>\n",
       "      <th>50%</th>\n",
       "      <td>-3.631241e-01</td>\n",
       "      <td>5.909295e-02</td>\n",
       "      <td>-2.328120e-01</td>\n",
       "      <td>-4.211484e-01</td>\n",
       "      <td>-2.231240e-01</td>\n",
       "      <td>-2.239453e-01</td>\n",
       "      <td>-2.495380e-01</td>\n",
       "    </tr>\n",
       "    <tr>\n",
       "      <th>75%</th>\n",
       "      <td>6.356253e-01</td>\n",
       "      <td>4.881330e-01</td>\n",
       "      <td>2.729653e-01</td>\n",
       "      <td>3.232776e-01</td>\n",
       "      <td>8.042751e-01</td>\n",
       "      <td>7.965356e-01</td>\n",
       "      <td>8.203922e-01</td>\n",
       "    </tr>\n",
       "    <tr>\n",
       "      <th>max</th>\n",
       "      <td>6.287639e+00</td>\n",
       "      <td>4.435302e+00</td>\n",
       "      <td>4.824961e+00</td>\n",
       "      <td>4.027199e+00</td>\n",
       "      <td>3.811753e+00</td>\n",
       "      <td>2.432326e+01</td>\n",
       "      <td>3.894558e+00</td>\n",
       "    </tr>\n",
       "  </tbody>\n",
       "</table>\n",
       "</div>"
      ],
      "text/plain": [
       "                  0             1             2             3             4  \\\n",
       "count  2.645700e+04  2.645700e+04  2.645700e+04  2.645700e+04  2.645700e+04   \n",
       "mean   9.836880e-15  6.136843e-15 -1.225669e-14  2.223069e-16 -4.182749e-15   \n",
       "std    1.000019e+00  1.000019e+00  1.000019e+00  1.000019e+00  1.000019e+00   \n",
       "min   -1.202982e+00 -1.615862e+01 -6.807917e+00 -8.494375e-01 -5.201340e+00   \n",
       "25%   -8.397999e-01 -4.557552e-01 -7.385894e-01 -6.992856e-01 -9.049435e-01   \n",
       "50%   -3.631241e-01  5.909295e-02 -2.328120e-01 -4.211484e-01 -2.231240e-01   \n",
       "75%    6.356253e-01  4.881330e-01  2.729653e-01  3.232776e-01  8.042751e-01   \n",
       "max    6.287639e+00  4.435302e+00  4.824961e+00  4.027199e+00  3.811753e+00   \n",
       "\n",
       "                  5             6  \n",
       "count  2.645700e+04  2.645700e+04  \n",
       "mean  -3.660987e-15  1.648061e-14  \n",
       "std    1.000019e+00  1.000019e+00  \n",
       "min   -5.177916e+00 -5.192314e+00  \n",
       "25%   -9.011735e-01 -9.125933e-01  \n",
       "50%   -2.239453e-01 -2.495380e-01  \n",
       "75%    7.965356e-01  8.203922e-01  \n",
       "max    2.432326e+01  3.894558e+00  "
      ]
     },
     "execution_count": 55,
     "metadata": {},
     "output_type": "execute_result"
    }
   ],
   "source": [
    "print('After scaling:')\n",
    "pd.DataFrame(Xscaled).describe()"
   ]
  },
  {
   "cell_type": "markdown",
   "metadata": {},
   "source": [
    "## Why did we just do that?\n",
    "In the cell below, give a 2-3 sentence explanation of why scaling our $X$ matrix was necessary here. What could have gone wrong if we didn't?"
   ]
  },
  {
   "cell_type": "markdown",
   "metadata": {},
   "source": [
    "#### Because\n",
    "It is because column data are measured in widely divergent scales:\n",
    "- price data measures in the thousands\n",
    "- depth and table in the middle-teens\n",
    "- x , y & z in the single digits\n",
    "- carats are generally in decimals\n",
    "\n",
    "So, without scaling, the resulting model would be heavily skewed based on biased data.<br>\n",
    "*Scaling converts these variables into a single proportional unitless scale for comparison.*"
   ]
  },
  {
   "cell_type": "markdown",
   "metadata": {},
   "source": [
    "## k-Nearest Neighbors\n",
    "You're going to fit a kNN model here, but you first need to tune your model to find the best value of $k$. Loop through the suggested values of $k$ and select the value that produces the best model with respect to **5-fold cross-validation**.\n",
    "\n",
    "\n",
    "**IMPORTANT:** Do not use _any_ code copy and pasted directly from lecture! Typing things out yourself is 100% essential to the learning process here. It's ok to use the exact same strategies used in class, just _please please please_ type it our yourself!\n",
    "\n",
    "**IMPORTANT 2:** Make sure your 5-fold CV is selecting folds randomly (ie, `shuffle=True`)"
   ]
  },
  {
   "cell_type": "code",
   "execution_count": 76,
   "metadata": {},
   "outputs": [
    {
     "name": "stdout",
     "output_type": "stream",
     "text": [
      "done\n"
     ]
    }
   ],
   "source": [
    "# Loop through the values of k in range(1, 51)\n",
    "# NOTE: This could take several minutes on your computer! Make sure you have all of your\n",
    "# code correct before running the cell. If you're unsure, test your code on a smaller \n",
    "# array of ks first.\n",
    "\n",
    "# Create the loop for incrementally increasing k value\n",
    "k_range = list(range(1, 51))\n",
    "\n",
    "# Split the data into training and test sets\n",
    "X_train, X_test, y_train, y_test = train_test_split(Xscaled, y, test_size=0.20, random_state=123)\n",
    "\n",
    "# Set up a list to save the accuracy scores\n",
    "training_error = []\n",
    "training_accuracy = []\n",
    "testing_error = []\n",
    "testing_accuracy = []\n",
    "k_values = []\n",
    "\n",
    "# Find accuracy for all values of k between 1 and 51.\n",
    "for k in k_range:\n",
    "\n",
    "    # Instantiate the model with the current K value.\n",
    "    knn = KNeighborsClassifier(n_neighbors=k)\n",
    "    knn.fit(X_train, y_train)\n",
    "        \n",
    "    # Calculate training accuracy & error, append to lists \n",
    "    y_pred_train = knn.predict(X_train)\n",
    "    training_accuracy.append(accuracy_score(y_train, y_pred_train))\n",
    "    training_error.append(accuracy_score(y_train, y_pred_train))\n",
    "    \n",
    "    # Calculate testing error accuracy & error, append to lists\n",
    "    y_pred_test = knn.predict(X_test)\n",
    "    testing_accuracy.append(accuracy_score(y_test, y_pred_test))\n",
    "    testing_error.append(accuracy_score(y_test, y_pred_test))\n",
    "    \n",
    "    # Save the k value, save to list\n",
    "    k_values.append(k)\n",
    "\n",
    "# Tell me when this is over!    \n",
    "print('done')"
   ]
  },
  {
   "cell_type": "code",
   "execution_count": 77,
   "metadata": {},
   "outputs": [
    {
     "data": {
      "text/html": [
       "<div>\n",
       "<style scoped>\n",
       "    .dataframe tbody tr th:only-of-type {\n",
       "        vertical-align: middle;\n",
       "    }\n",
       "\n",
       "    .dataframe tbody tr th {\n",
       "        vertical-align: top;\n",
       "    }\n",
       "\n",
       "    .dataframe thead th {\n",
       "        text-align: right;\n",
       "    }\n",
       "</style>\n",
       "<table border=\"1\" class=\"dataframe\">\n",
       "  <thead>\n",
       "    <tr style=\"text-align: right;\">\n",
       "      <th></th>\n",
       "      <th>k</th>\n",
       "      <th>training accuracy</th>\n",
       "      <th>training error</th>\n",
       "      <th>testing accuracy</th>\n",
       "      <th>testing error</th>\n",
       "    </tr>\n",
       "  </thead>\n",
       "  <tbody>\n",
       "    <tr>\n",
       "      <th>49</th>\n",
       "      <td>50</td>\n",
       "      <td>0.978185</td>\n",
       "      <td>0.978185</td>\n",
       "      <td>0.974427</td>\n",
       "      <td>0.974427</td>\n",
       "    </tr>\n",
       "    <tr>\n",
       "      <th>48</th>\n",
       "      <td>49</td>\n",
       "      <td>0.977861</td>\n",
       "      <td>0.977861</td>\n",
       "      <td>0.973797</td>\n",
       "      <td>0.973797</td>\n",
       "    </tr>\n",
       "    <tr>\n",
       "      <th>47</th>\n",
       "      <td>48</td>\n",
       "      <td>0.978401</td>\n",
       "      <td>0.978401</td>\n",
       "      <td>0.973797</td>\n",
       "      <td>0.973797</td>\n",
       "    </tr>\n",
       "    <tr>\n",
       "      <th>46</th>\n",
       "      <td>47</td>\n",
       "      <td>0.978131</td>\n",
       "      <td>0.978131</td>\n",
       "      <td>0.973167</td>\n",
       "      <td>0.973167</td>\n",
       "    </tr>\n",
       "    <tr>\n",
       "      <th>45</th>\n",
       "      <td>46</td>\n",
       "      <td>0.978617</td>\n",
       "      <td>0.978617</td>\n",
       "      <td>0.973419</td>\n",
       "      <td>0.973419</td>\n",
       "    </tr>\n",
       "  </tbody>\n",
       "</table>\n",
       "</div>"
      ],
      "text/plain": [
       "     k  training accuracy  training error  testing accuracy  testing error\n",
       "49  50           0.978185        0.978185          0.974427       0.974427\n",
       "48  49           0.977861        0.977861          0.973797       0.973797\n",
       "47  48           0.978401        0.978401          0.973797       0.973797\n",
       "46  47           0.978131        0.978131          0.973167       0.973167\n",
       "45  46           0.978617        0.978617          0.973419       0.973419"
      ]
     },
     "execution_count": 77,
     "metadata": {},
     "output_type": "execute_result"
    }
   ],
   "source": [
    "# Create a DataFrame with corresponding k and accuracy data.\n",
    "column_dict = {'k' : k_values, 'training accuracy' : training_accuracy, 'training error': training_error, 'testing accuracy': testing_accuracy, 'testing error': testing_error}\n",
    "k_accuracy = pd.DataFrame(column_dict).sort_index(ascending=False)\n",
    "k_accuracy.head()"
   ]
  },
  {
   "cell_type": "markdown",
   "metadata": {},
   "source": [
    "## Produce the plot of tuning parameter (k) vs Accuracy\n",
    "What is the \"best\" value of k?"
   ]
  },
  {
   "cell_type": "code",
   "execution_count": 78,
   "metadata": {},
   "outputs": [
    {
     "name": "stdout",
     "output_type": "stream",
     "text": [
      "Based on the best testing accuracy, these are the ideal values:\n"
     ]
    },
    {
     "data": {
      "text/plain": [
       "k                    9.000000\n",
       "training accuracy    0.983206\n",
       "training error       0.983206\n",
       "testing accuracy     0.977954\n",
       "testing error        0.977954\n",
       "Name: 8, dtype: float64"
      ]
     },
     "execution_count": 78,
     "metadata": {},
     "output_type": "execute_result"
    }
   ],
   "source": [
    "print('Based on the best testing accuracy, these are the ideal values:')\n",
    "k_accuracy.loc[k_accuracy['testing accuracy'].idxmax()]"
   ]
  },
  {
   "cell_type": "code",
   "execution_count": 81,
   "metadata": {},
   "outputs": [
    {
     "data": {
      "image/png": "[encoded data removed]",
      "text/plain": [
       "<Figure size 360x360 with 1 Axes>"
      ]
     },
     "metadata": {
      "needs_background": "light"
     },
     "output_type": "display_data"
    }
   ],
   "source": [
    "# Plot of k-value vs. accuracy\n",
    "sns.lmplot(data=k_accuracy, x='k', y='testing accuracy', fit_reg=False);\n",
    "plt.title('Plot of k-values vs. accuracy');\n",
    "plt.ylim(0.96, 0.985);"
   ]
  },
  {
   "cell_type": "code",
   "execution_count": 82,
   "metadata": {},
   "outputs": [
    {
     "data": {
      "image/png": "[encoded data removed]",
      "text/plain": [
       "<Figure size 432x288 with 1 Axes>"
      ]
     },
     "metadata": {
      "needs_background": "light"
     },
     "output_type": "display_data"
    }
   ],
   "source": [
    "# Plot the relationship between k and testing error.\n",
    "ax = k_accuracy.plot(kind=\"line\", x='k', y='testing error', color='b', label='testing error');\n",
    "k_accuracy.plot(x='k', y='training error', color='g', label='training error', ax=ax);\n",
    "plt.axvline(x=9, color='r')\n",
    "plt.annotate('k-value (9) at maximal testing error', xy=(12, 0.99), color='r', xycoords='data')\n",
    "plt.title('Plot of k-values vs. error');"
   ]
  },
  {
   "cell_type": "markdown",
   "metadata": {},
   "source": [
    "## Produce the Best kNN Model\n",
    "Now that you know the optimal value of k, fit a kNN on the full (but still filtered to \"Ideal\" and \"Good\" cuts)"
   ]
  },
  {
   "cell_type": "code",
   "execution_count": 83,
   "metadata": {},
   "outputs": [
    {
     "name": "stdout",
     "output_type": "stream",
     "text": [
      "This model has an accuracy score of 0.8725857051063991\n"
     ]
    }
   ],
   "source": [
    "# Redo the model using the value found above - k=14.\n",
    "knn = KNeighborsClassifier(n_neighbors = 9)\n",
    "\n",
    "# Redo the training with the full dataset\n",
    "knn.fit(X, y)\n",
    "y_pred = knn.predict(X)\n",
    "\n",
    "print('This model has an accuracy score of', accuracy_score(y, y_pred))"
   ]
  },
  {
   "cell_type": "markdown",
   "metadata": {},
   "source": [
    "## Does this model outperform the baseline?"
   ]
  },
  {
   "cell_type": "markdown",
   "metadata": {},
   "source": [
    "#### Answer(ish)\n",
    "*If* the value above is true and the value generated below based on values is true,<br>\n",
    "then....yup....87% is better than 18.5%."
   ]
  },
  {
   "cell_type": "code",
   "execution_count": 84,
   "metadata": {},
   "outputs": [
    {
     "name": "stdout",
     "output_type": "stream",
     "text": [
      "Baseline accuracy is: 0.18543296670068413\n",
      "Best kNN Model accuracy (from above) is: 0.8725857051063991\n"
     ]
    }
   ],
   "source": [
    "# Compute the baseline model accuracy\n",
    "filtered_diamonds.groupby('cut').count()\n",
    "num_good = len(filtered_diamonds[filtered_diamonds.cut == 'Good'] )\n",
    "num_ideal = len(filtered_diamonds[filtered_diamonds.cut == 'Ideal'])\n",
    "#print(num_good)\n",
    "#print(num_ideal)\n",
    "baseline_accuracy = num_good/(num_good+num_ideal)\n",
    "\n",
    "print('Baseline accuracy is:', baseline_accuracy)\n",
    "print('Best kNN Model accuracy (from above) is:', accuracy_score(y, y_pred))"
   ]
  },
  {
   "cell_type": "markdown",
   "metadata": {},
   "source": [
    "## Prediction\n",
    "Suppose I have a diamond with the following specifications:"
   ]
  },
  {
   "cell_type": "code",
   "execution_count": 85,
   "metadata": {},
   "outputs": [],
   "source": [
    "new_diamond = pd.DataFrame({\n",
    "    'carat': 0.24,\n",
    "    'depth': 60,\n",
    "    'table': 64,\n",
    "    'price': 400,\n",
    "    'x': 3,\n",
    "    'y': 3,\n",
    "    'z': 3\n",
    "}, index=[0])"
   ]
  },
  {
   "cell_type": "markdown",
   "metadata": {},
   "source": [
    "What do you predict the cut of this diamond to be?\n",
    "\n",
    "**BIG HINT:** Don't forget to scale this new data point appropriately!"
   ]
  },
  {
   "cell_type": "code",
   "execution_count": 116,
   "metadata": {},
   "outputs": [
    {
     "name": "stdout",
     "output_type": "stream",
     "text": [
      "The new prediction is ['Good'] !\n"
     ]
    }
   ],
   "source": [
    "X_new = scaler.transform(new_diamond)\n",
    "print('The new prediction is', knn.predict(X_new), '!')"
   ]
  },
  {
   "cell_type": "markdown",
   "metadata": {},
   "source": [
    "# Part 3: Now _YOU_ Model!"
   ]
  },
  {
   "cell_type": "markdown",
   "metadata": {},
   "source": [
    "#### Well.....\n",
    "Since we haven't really done logistic regression yet, I'll skip this for now."
   ]
  },
  {
   "cell_type": "markdown",
   "metadata": {},
   "source": [
    "Put your skills to the test"
   ]
  },
  {
   "cell_type": "markdown",
   "metadata": {},
   "source": [
    "Using the _full_ diamonds data set, produce a **logistic regression** model that achieves the best randomzied 20-fold cross validation. Note that for this problem, you are doing multi-class classification. The response variable has _five_ categories."
   ]
  },
  {
   "cell_type": "code",
   "execution_count": 121,
   "metadata": {},
   "outputs": [],
   "source": [
    "import pandas as pd\n",
    "import numpy as np\n",
    "\n",
    "from sklearn.preprocessing import StandardScaler\n",
    "from sklearn import metrics\n",
    "from sklearn.model_selection import train_test_split\n",
    "from sklearn.linear_model import LogisticRegression\n",
    "from sklearn.model_selection import cross_val_predict\n",
    "from sklearn.model_selection import cross_val_score"
   ]
  },
  {
   "cell_type": "code",
   "execution_count": 92,
   "metadata": {},
   "outputs": [
    {
     "data": {
      "text/html": [
       "<div>\n",
       "<style scoped>\n",
       "    .dataframe tbody tr th:only-of-type {\n",
       "        vertical-align: middle;\n",
       "    }\n",
       "\n",
       "    .dataframe tbody tr th {\n",
       "        vertical-align: top;\n",
       "    }\n",
       "\n",
       "    .dataframe thead th {\n",
       "        text-align: right;\n",
       "    }\n",
       "</style>\n",
       "<table border=\"1\" class=\"dataframe\">\n",
       "  <thead>\n",
       "    <tr style=\"text-align: right;\">\n",
       "      <th></th>\n",
       "      <th>carat</th>\n",
       "      <th>cut</th>\n",
       "      <th>color</th>\n",
       "      <th>clarity</th>\n",
       "      <th>depth</th>\n",
       "      <th>table</th>\n",
       "      <th>price</th>\n",
       "      <th>x</th>\n",
       "      <th>y</th>\n",
       "      <th>z</th>\n",
       "    </tr>\n",
       "  </thead>\n",
       "  <tbody>\n",
       "    <tr>\n",
       "      <th>0</th>\n",
       "      <td>0.23</td>\n",
       "      <td>Ideal</td>\n",
       "      <td>E</td>\n",
       "      <td>SI2</td>\n",
       "      <td>61.5</td>\n",
       "      <td>55.0</td>\n",
       "      <td>326</td>\n",
       "      <td>3.95</td>\n",
       "      <td>3.98</td>\n",
       "      <td>2.43</td>\n",
       "    </tr>\n",
       "    <tr>\n",
       "      <th>1</th>\n",
       "      <td>0.21</td>\n",
       "      <td>Premium</td>\n",
       "      <td>E</td>\n",
       "      <td>SI1</td>\n",
       "      <td>59.8</td>\n",
       "      <td>61.0</td>\n",
       "      <td>326</td>\n",
       "      <td>3.89</td>\n",
       "      <td>3.84</td>\n",
       "      <td>2.31</td>\n",
       "    </tr>\n",
       "    <tr>\n",
       "      <th>2</th>\n",
       "      <td>0.23</td>\n",
       "      <td>Good</td>\n",
       "      <td>E</td>\n",
       "      <td>VS1</td>\n",
       "      <td>56.9</td>\n",
       "      <td>65.0</td>\n",
       "      <td>327</td>\n",
       "      <td>4.05</td>\n",
       "      <td>4.07</td>\n",
       "      <td>2.31</td>\n",
       "    </tr>\n",
       "    <tr>\n",
       "      <th>3</th>\n",
       "      <td>0.29</td>\n",
       "      <td>Premium</td>\n",
       "      <td>I</td>\n",
       "      <td>VS2</td>\n",
       "      <td>62.4</td>\n",
       "      <td>58.0</td>\n",
       "      <td>334</td>\n",
       "      <td>4.20</td>\n",
       "      <td>4.23</td>\n",
       "      <td>2.63</td>\n",
       "    </tr>\n",
       "    <tr>\n",
       "      <th>4</th>\n",
       "      <td>0.31</td>\n",
       "      <td>Good</td>\n",
       "      <td>J</td>\n",
       "      <td>SI2</td>\n",
       "      <td>63.3</td>\n",
       "      <td>58.0</td>\n",
       "      <td>335</td>\n",
       "      <td>4.34</td>\n",
       "      <td>4.35</td>\n",
       "      <td>2.75</td>\n",
       "    </tr>\n",
       "  </tbody>\n",
       "</table>\n",
       "</div>"
      ],
      "text/plain": [
       "   carat      cut color clarity  depth  table  price     x     y     z\n",
       "0   0.23    Ideal     E     SI2   61.5   55.0    326  3.95  3.98  2.43\n",
       "1   0.21  Premium     E     SI1   59.8   61.0    326  3.89  3.84  2.31\n",
       "2   0.23     Good     E     VS1   56.9   65.0    327  4.05  4.07  2.31\n",
       "3   0.29  Premium     I     VS2   62.4   58.0    334  4.20  4.23  2.63\n",
       "4   0.31     Good     J     SI2   63.3   58.0    335  4.34  4.35  2.75"
      ]
     },
     "execution_count": 92,
     "metadata": {},
     "output_type": "execute_result"
    }
   ],
   "source": [
    "# Retrieving the full diamonds dataset and re-familiarizing myself withe the file and file structure\n",
    "diamonds.head()"
   ]
  },
  {
   "cell_type": "code",
   "execution_count": 134,
   "metadata": {},
   "outputs": [
    {
     "name": "stdout",
     "output_type": "stream",
     "text": [
      "Accuracy score = 0.6476826103077493\n",
      "20-fold cross-validation score = 0.6445630478359601\n"
     ]
    }
   ],
   "source": [
    "# Create feature matrix (X) and a response vector (y).\n",
    "FEATURE_COLS = ['carat', 'depth', 'table', 'price', 'x', 'y', 'z']\n",
    "X = diamonds[FEATURE_COLS]\n",
    "y = diamonds.cut\n",
    "\n",
    "# Use the StandardScaler() function to convert the values into non-unitized distributions\n",
    "scaler = StandardScaler()\n",
    "scaler.fit(X)\n",
    "Xscaled = scaler.transform(X)\n",
    "\n",
    "# using train test split\n",
    "X_train, X_test, y_train, y_test = train_test_split(Xscaled, y, random_state=123)\n",
    "\n",
    "# fit model\n",
    "logreg = LogisticRegression(solver='lbfgs')\n",
    "logreg.fit(X_train, y_train)\n",
    "\n",
    "# make predictions with test data\n",
    "y_pred = logreg.predict(X_test)\n",
    "\n",
    "# assess for accuracy\n",
    "print('Accuracy score =', metrics.accuracy_score(y_test, y_pred))\n",
    "print('20-fold cross-validation score =', np.mean(cross_val_score(logreg, Xscaled, y, cv=20)))"
   ]
  },
  {
   "cell_type": "code",
   "execution_count": 130,
   "metadata": {},
   "outputs": [
    {
     "name": "stdout",
     "output_type": "stream",
     "text": [
      "With the full diamond dataset, the new prediction based on logistic regression is ['Very Good'] !\n",
      "Which will make the seller happy....;-)\n"
     ]
    }
   ],
   "source": [
    "X_new = scaler.transform(new_diamond)\n",
    "print('With the full diamond dataset, the new prediction based on logistic regression is', logreg.predict(X_new), '!')\n",
    "print('Which will make the seller happy....;-)')"
   ]
  },
  {
   "cell_type": "code",
   "execution_count": null,
   "metadata": {},
   "outputs": [],
   "source": []
  }
 ],
 "metadata": {
  "anaconda-cloud": {},
  "kernelspec": {
   "display_name": "Python 3",
   "language": "python",
   "name": "python3"
  },
  "language_info": {
   "codemirror_mode": {
    "name": "ipython",
    "version": 3
   },
   "file_extension": ".py",
   "mimetype": "text/x-python",
   "name": "python",
   "nbconvert_exporter": "python",
   "pygments_lexer": "ipython3",
   "version": "3.7.3"
  }
 },
 "nbformat": 4,
 "nbformat_minor": 2
}
