{
 "cells": [
  {
   "cell_type": "markdown",
   "metadata": {},
   "source": [
    "<img src=\"http://imgur.com/1ZcRyrc.png\" style=\"float: left; margin: 20px; height: 55px\">\n",
    "\n",
    "# Project 2: Analyzing Chipotle Data\n",
    "<br><br>\n",
    "_Instructor:_ Tim Book, General Assembly DC\n",
    "\n",
    "_Material adapted from its original author, Joseph Nelson_\n",
    "\n",
    "---"
   ]
  },
  {
   "cell_type": "markdown",
   "metadata": {},
   "source": [
    "For Project 2, you will complete a series of exercises exploring [order data from Chipotle](https://github.com/TheUpshot/chipotle), compliments of _The New York Times'_ \"The Upshot.\"\n",
    "\n",
    "For these exercises, you will conduct basic exploratory data analysis to understand the essentials of Chipotle's order data: how many orders are being made, the average price per order, how many different ingredients are used, etc. These allow you to practice business analysis skills while also becoming comfortable with Python.\n",
    "\n",
    "**To get full credit, each code cell must be accompanied by another cell giving plain-English interpretations as if you were speaking to a non-data scientist.**"
   ]
  },
  {
   "cell_type": "markdown",
   "metadata": {},
   "source": [
    "---\n",
    "\n",
    "## Basic Level"
   ]
  },
  {
   "cell_type": "markdown",
   "metadata": {},
   "source": [
    "### Part 1: Read in the data.\n",
    "Print the head of the data.\n",
    "\n",
    "_Hint:_ This is a TSV (tab-separated value) file, which means each element of the table is separated by a tab (instead of a `,` or `|` like we've seen in class).\n",
    "\n",
    "_Hint 2:_ The unicode character for tab is `\\t`"
   ]
  },
  {
   "cell_type": "code",
   "execution_count": 1,
   "metadata": {},
   "outputs": [],
   "source": [
    "DATA_FILE = './data/chipotle.tsv'\n",
    "import numpy as np\n",
    "import pandas as pd"
   ]
  },
  {
   "cell_type": "code",
   "execution_count": 3,
   "metadata": {},
   "outputs": [],
   "source": [
    "chipolte = pd.read_csv('./data/chipotle.tsv', sep='\\t')"
   ]
  },
  {
   "cell_type": "markdown",
   "metadata": {},
   "source": [
    "### Part 2: Whare the top 5 most commonly ordered items?"
   ]
  },
  {
   "cell_type": "code",
   "execution_count": 4,
   "metadata": {},
   "outputs": [
    {
     "name": "stdout",
     "output_type": "stream",
     "text": [
      "The 5 most commonly ordered items and how many times they were ordered are:\n",
      " item_name\n",
      "Chicken Bowl           726\n",
      "Chicken Burrito        553\n",
      "Chips and Guacamole    479\n",
      "Steak Burrito          368\n",
      "Canned Soft Drink      301\n",
      "Name: order_id, dtype: int64\n"
     ]
    }
   ],
   "source": [
    "# Group the orders by item_name and count of the order_ids for each (number of orders, not quantity).\n",
    "top_orders = chipolte.groupby(['item_name'])['order_id'].count()\n",
    "\n",
    "# Sorted the order groupings from highest to lowest & printed out the first (top) 5.\n",
    "top_orders.sort_values(axis=0, inplace=True, ascending=False)\n",
    "print('The 5 most commonly ordered items and how many times they were ordered are:\\n', top_orders.head(5))"
   ]
  },
  {
   "cell_type": "markdown",
   "metadata": {},
   "source": [
    "### My Explanation ###\n",
    "I grouped all of the items and then counted up how many times each was ordered. \n",
    "Listed above are the top 5 with how many times each was ordered which were (in this order):  \n",
    "Chicken Bowl, Chicken Burrito, Chips and Guacamole, Steak Burrito and Canned Soft Drink."
   ]
  },
  {
   "cell_type": "markdown",
   "metadata": {},
   "source": [
    "---\n",
    "\n",
    "## Intermediate Level"
   ]
  },
  {
   "cell_type": "markdown",
   "metadata": {},
   "source": [
    "### Part 3: Calculate the average price of an order.\n",
    "\n",
    "_Hint:_ Examine the data to see if the `quantity` column is relevant to this calculation.\n",
    "\n",
    "_Hint 2:_ String methods can be called via `str`. For example, you might find the following useful:\n",
    "\n",
    "```python\n",
    "data.variable.str.replace('xyz', 'abc')\n",
    "```\n",
    "\n",
    "_Hint 3:_ Pay close attention to data types here! This is tricky."
   ]
  },
  {
   "cell_type": "code",
   "execution_count": 13,
   "metadata": {},
   "outputs": [
    {
     "name": "stdout",
     "output_type": "stream",
     "text": [
      "The average price of a Chipolte order is: 18.81142857142869\n",
      "This is rounded to show only dollars and cents and is: $ 18.81\n"
     ]
    }
   ],
   "source": [
    "# Reload in the original chipolte dataframe.\n",
    "chipolte = pd.read_csv('./data/chipotle.tsv', sep='\\t')\n",
    "\n",
    "# Remove the $ in the item_price column & convert it to a float.\n",
    "chipolte['item_price'] = chipolte['item_price'].str.replace('$','')  \n",
    "chipolte['item_price'] = chipolte['item_price'].astype(float)\n",
    "\n",
    "# item_price already accounts for the quantity of each item per order, so it doesn't need to be multiplied.\n",
    "# Groupby the order_id and sum up the total price per order.\n",
    "order_price = chipolte.groupby('order_id')['item_price'].sum()\n",
    "\n",
    "# Print out the mean of the order price\n",
    "print('The average price of a Chipolte order is:', order_price.mean())\n",
    "\n",
    "print('This is rounded to show only dollars and cents and is: $', str(round(order_price.mean(), 2)))"
   ]
  },
  {
   "cell_type": "markdown",
   "metadata": {},
   "source": [
    "### My Explanation ###\n",
    "In order to calculate the average price of an order:\n",
    "* I had to change the information in the item_price column to a \"number\" (the inclusion of the dollar sign prevented it from being recognized as a number). So I first removed the dollar sign and then converted the information in the column to a \"float\" (which is a number that can have decimal values). \n",
    "* I looked over these values and realized that the item price already accounted for the price of multiple quantities per order, so I didn't have to account for that.  \n",
    "* Thus, I just had to group the item_price for each order and sum up the total price of each of the different items for an order.  \n",
    "* Finally I found the mean for the price of all the orders, and rounded the average value to show only the first 2 decimal places.\n",
    "\n",
    "The average price of an order is $18.81. "
   ]
  },
  {
   "cell_type": "markdown",
   "metadata": {},
   "source": [
    "### Part 4: Create a list (or set) named `unique_sodas` containing all of unique sodas and soft drinks that Chipotle sells.\n",
    "\n",
    "Note: Just look for items with `item_name` `'Canned Soda'` and `'Canned Soft Drink'`, and ignore other drinks like `'Izze'`. You're being asked about the variety of sodas in the `choice_description` column."
   ]
  },
  {
   "cell_type": "code",
   "execution_count": 179,
   "metadata": {},
   "outputs": [
    {
     "name": "stdout",
     "output_type": "stream",
     "text": [
      "Here's your set of unique sodas and soft drinks:\n",
      " ['[Sprite]' '[Dr. Pepper]' '[Mountain Dew]' '[Diet Dr. Pepper]'\n",
      " '[Coca Cola]' '[Diet Coke]']\n"
     ]
    }
   ],
   "source": [
    "# Filter the chipolte table for item_names that include 'Canned Soda' or 'Canned Soft Drink', then save the choice_description column to a new DataFrame.\n",
    "sodas = chipolte['choice_description'][chipolte['item_name'].str.contains('Canned Soda' or 'Canned Soft Drink')]\n",
    "\n",
    "# Create a list of items that are unique and print them out.\n",
    "unique_sodas = sodas.unique()\n",
    "print(\"Here's your set of unique sodas and soft drinks:\\n\", unique_sodas)"
   ]
  },
  {
   "cell_type": "markdown",
   "metadata": {},
   "source": [
    "### My Explanation ###\n",
    "I filtered the datasest to include only the rows which contained, in the choice_description cell, either Canned Soda or Canned Soft Drink.\n",
    "Then I created a list of \"unique\" items, getting rid of the redundancy.\n",
    "Finally, I saved that a new set called \"unique_sodas\", as requested."
   ]
  },
  {
   "cell_type": "markdown",
   "metadata": {},
   "source": [
    "---\n",
    "\n",
    "## Advanced Level\n"
   ]
  },
  {
   "cell_type": "markdown",
   "metadata": {},
   "source": [
    "### Part 5: Calculate the average number of toppings per burrito.\n",
    "\n",
    "Note: Let's ignore the `quantity` column to simplify this task.\n",
    "\n",
    "Hint: Think carefully about the easiest way to count the number of toppings!\n"
   ]
  },
  {
   "cell_type": "code",
   "execution_count": 161,
   "metadata": {},
   "outputs": [
    {
     "name": "stdout",
     "output_type": "stream",
     "text": [
      "As requested above to not take into account multiple quantities per order: \n",
      " the average number of toppings per burrito is: 5.395051194539249\n"
     ]
    }
   ],
   "source": [
    "# Create a new column to include the number of toppings for an item.\n",
    "chipolte['num_toppings'] = (chipolte.choice_description.str.count(',')+1)\n",
    "# Filter chipolte table for burrito rows. \n",
    "burrito_data = chipolte.loc[chipolte['item_name'].str.contains('Burrito')]\n",
    "\n",
    "# Quick calculation of the mean for the num_toppings column (as requested above).\n",
    "print('As requested above to not take into account multiple quantities per order: \\n the average number of toppings per burrito is:', burrito_data['num_toppings'].mean())\n",
    "\n",
    "# Validation - by calculating another way\n",
    "#print('\\nTo validate this, the number of orders with burritos in them is:', burrito_data['quantity'].count(), \"\\nand the total number of toppings (not accounting for 'quantity') is:\", burrito_data['num_toppings'].sum())\n",
    "#print('the number of total toppings divided by the number of burrito orders is:', burrito_data['num_toppings'].sum()/burrito_data['quantity'].count())\n",
    "#print('which matches the quick calculation above.')"
   ]
  },
  {
   "cell_type": "markdown",
   "metadata": {},
   "source": [
    "### My Explanation ###\n",
    "In each row's 'choice_description' there is a list of toppings with commas in between. Counting up the commas and adding \"1\" to it (since the last term does not have a trailing comma) will indicate the number of toppings listed in the cell.\n",
    "I created a new column to store this data called 'num_toppings'.\n",
    "Then, I filtered the entire table to keep only the rows which contained the term \"Burrito\" in the \"item_name\" column and saved it in a new DataFrame called \"burrito_data\".\n",
    "Finally, I found the mean of the number of toppings in the \"burrito_data\"'s new 'num_toppings' column and found this to be about 5.4 toppings.\n",
    "\n",
    "However, as suggested above in the instructions...the above is actually wrong AND, if this was an actual contracted deliverable, I'd have to counsel against using it.\n",
    "\n",
    "....so I really tried (unsuccessfully) to solve it as shown below."
   ]
  },
  {
   "cell_type": "code",
   "execution_count": 198,
   "metadata": {},
   "outputs": [
    {
     "name": "stdout",
     "output_type": "stream",
     "text": [
      "In attempting to factor in the quantity column which includes a few cells of multiple quantities per order...\n",
      "I found the total number of toppings is 6616.0 , but it should be 7310.\n",
      "Although the total number of burrito orders is 1172 , the total number of burritos is 1231 .\n",
      "So, if I divide the total number of toppings by the total number of burritos,\n",
      "this represents the average number of toppings per burrito.\n",
      "However, with the incorrect qnum_topping value, the average calculates to: 5.374492282696995 ,\n",
      "which really should be 5.69363. (argh!  but this is probably why you told us not to do this....)\n"
     ]
    }
   ],
   "source": [
    "# I know....I know....you told me to ignore this....\n",
    "# BUT IT IS INCORRECT WITHOUT IT!\n",
    "# So, I created another new column to the original chipolte file above, # to include the number of toppings\n",
    "# while accounting for multiple quantities of each item with the listed toppings.\n",
    "chipolte['qnum_toppings'] = (chipolte['num_toppings']*chipolte['quantity'])\n",
    "\n",
    "# Filter chipolte table for burrito rows (which include both columns described above). \n",
    "burrito_data = chipolte.loc[chipolte['item_name'].str.contains('Burrito')]\n",
    "\n",
    "#print(chipolte[['quantity','num_toppings','qnum_toppings']])\n",
    "print('In attempting to factor in the quantity column which includes a few cells of multiple quantities per order...\\nI found the total number of toppings is', burrito_data['qnum_toppings'].sum(), ', but it should be 7310.\\nAlthough the total number of burrito orders is', burrito_data['quantity'].count(), ', the total number of burritos is', burrito_data['quantity'].sum(), '.\\nSo, if I divide the total number of toppings by the total number of burritos,\\nthis represents the average number of toppings per burrito.\\nHowever, with the incorrect qnum_topping value, the average calculates to:', burrito_data['qnum_toppings'].sum()/burrito_data['quantity'].sum(), ',\\nwhich really should be 5.69363. (argh!  but this is probably why you told us not to do this....)')"
   ]
  },
  {
   "cell_type": "markdown",
   "metadata": {},
   "source": [
    "### My Explanation, part 2 ###\n",
    "Using the column created above with the \"num_toppings\" data multiplied this value by the quantity column value to obtain the total number of toppings for the burritos ordered and stored that in a column called \"qnum_toppings\" (num_toppings accounting for the quality values).\n",
    "As before, I filtered the entire table to keep only the rows whcih contained the term \"Burrito\" in the \"item_name\" column and saved it in a new DataFrame called \"burrito_data\".\n",
    "To obtain the average number of toppings, I summed up the \"qnum_toppings\" and divided that by the total number of burritos (sum of the 'quantity' column).\n",
    "\n",
    "Finally, I found the mean of the number of toppings in the \"burrito_data\"'s new 'num_toppings' column and found this to be about 5.4 toppings.\n",
    "This is less than not including the quantity as calculated above.\n",
    "\n",
    "So in exploring the data (see below), I discovered that the qnum_toppings value is incorrect.\n",
    "'Have no idea why....but the actual value is calculated below."
   ]
  },
  {
   "cell_type": "code",
   "execution_count": 199,
   "metadata": {},
   "outputs": [
    {
     "name": "stdout",
     "output_type": "stream",
     "text": [
      "quantity\n",
      "1    1122\n",
      "2      43\n",
      "3       5\n",
      "4       2\n",
      "Name: order_id, dtype: int64\n",
      "quantity\n",
      "1     5.412656\n",
      "2    10.139535\n",
      "3    12.600000\n",
      "4    22.000000\n",
      "Name: qnum_toppings, dtype: float64\n"
     ]
    }
   ],
   "source": [
    "# How I found the 5.69363 value - which should be the correct one. \n",
    "grouped_burrito_data = burrito_data.groupby(['quantity'])\n",
    "print(grouped_burrito_data.order_id.count())\n",
    "print(grouped_burrito_data.qnum_toppings.mean())\n",
    "\n",
    "# now multiply each row....groupby quantity * sum of orders * qnum_toppings = 7310\n",
    "# then divide by the total number of burritos (7310/1231) = 5.69363"
   ]
  },
  {
   "cell_type": "markdown",
   "metadata": {},
   "source": [
    "### Part 6: Create a dictionary. Let the keys represent chip orders and the values represent the total number of orders.\n",
    "\n",
    "Expected output: `{'Chips and Roasted Chili-Corn Salsa': 18, ... }`\n",
    "\n",
    "Note: Please take the `quantity` column into account!\n",
    "\n",
    "Optional: Learn how to use `.defaultdict()` to simplify your code."
   ]
  },
  {
   "cell_type": "code",
   "execution_count": 181,
   "metadata": {},
   "outputs": [
    {
     "name": "stdout",
     "output_type": "stream",
     "text": [
      "Here's the dictionary for chip-related orders paired with total number of orders:\n",
      " {'Chips': 230, 'Chips and Fresh Tomato Salsa': 130, 'Chips and Guacamole': 506, 'Chips and Mild Fresh Tomato Salsa': 1, 'Chips and Roasted Chili Corn Salsa': 23, 'Chips and Roasted Chili-Corn Salsa': 18, 'Chips and Tomatillo Green Chili Salsa': 45, 'Chips and Tomatillo Red Chili Salsa': 50, 'Chips and Tomatillo-Green Chili Salsa': 33, 'Chips and Tomatillo-Red Chili Salsa': 25, 'Side of Chips': 110}\n"
     ]
    }
   ],
   "source": [
    "# Filter chipolte table for chip rows. \n",
    "chip_data = chipolte.loc[chipolte['item_name'].str.contains('Chips')]\n",
    "\n",
    "# Group chip orders, sum up the quantities, and convert to a dictionary, then print it.\n",
    "chip_dict = dict(chip_data.groupby('item_name')['quantity'].sum())\n",
    "print(\"Here's the dictionary for chip-related orders paired with total number of orders:\\n\", chip_dict)"
   ]
  },
  {
   "cell_type": "markdown",
   "metadata": {},
   "source": [
    "### My Explanation ###\n",
    "I filtered the data to include only the rows which contained, in the item_name cell, the term \"Chips\". This includes all variations and combinations of Chips with and without other items.\n",
    "I then grouped these Chips-containing items, summed them up including the quantity which may have been more than one per order. \n",
    "Finally, I converted the names and the total orders of each Chips-containing item to a key-value pair - stored as a dictionary set called \"chip_data\"."
   ]
  },
  {
   "cell_type": "markdown",
   "metadata": {},
   "source": [
    "### Part 7: Create a barplot of the frequencies of the chip orders from part 6."
   ]
  },
  {
   "cell_type": "code",
   "execution_count": 143,
   "metadata": {},
   "outputs": [
    {
     "data": {
      "image/png": "[encoded data removed]",
      "text/plain": [
       "<Figure size 432x288 with 1 Axes>"
      ]
     },
     "metadata": {
      "needs_background": "light"
     },
     "output_type": "display_data"
    }
   ],
   "source": [
    "import matplotlib.pyplot as plt\n",
    "\n",
    "# Create a horizontal bar plot to display the dictionary keys (barh=easier to read the names) and values created in Part 6.\n",
    "plt.barh(range(len(chip_dict)), list(chip_dict.values()), align='center')\n",
    "plt.yticks(range(len(chip_dict)), list(chip_dict.keys()))\n",
    "plt.title('Quantity of Chip-related Orders')\n",
    "plt.xlabel('Number of orders')\n",
    "plt.show()"
   ]
  },
  {
   "cell_type": "markdown",
   "metadata": {},
   "source": [
    "### My Explanation ###\n",
    "I created a horizontal bar plot to display the number of orders for each Chip-related item stored in the dictionary described in Part 6.\n",
    "The horizontal bar plot makes the long names of each of the items easier to read and compare to the length of the bar (representing the number of orders shown on the X-axis)."
   ]
  },
  {
   "cell_type": "markdown",
   "metadata": {},
   "source": [
    "---\n",
    "\n",
    "## Bonus: Craft a problem statement about this data that interests you, and then answer it!\n"
   ]
  },
  {
   "cell_type": "markdown",
   "metadata": {},
   "source": [
    "### My Explanation ###\n",
    "I decided to figure out what the cheapest and most expensive Chipolte orders were....and then to figure out what items were actually ordered. I created a dictionary of key-value pairs for each order grouped by \"order_id\" with their summed item_prices to represent each order's cost.  \n",
    "Then, I searched through this dictionary to find the least expensive/cheapest/minimum value for the order cost and correlated the order_id with the values for quantity and item_name in the order.\n",
    "I did a similar function, but searched for the most expensive/maximum value for the order costs and found the quantities and item_names that correspond to the this order_id.\n",
    "The order_id, cost and items purchased are shown below:"
   ]
  },
  {
   "cell_type": "code",
   "execution_count": 183,
   "metadata": {},
   "outputs": [
    {
     "name": "stdout",
     "output_type": "stream",
     "text": [
      "The least expensive order was # 14 at a cost of $ 10.08 and included:\n",
      "[[1 'Carnitas Burrito']\n",
      " [1 'Canned Soda']]\n",
      "\n",
      "The most expensive order was # 926 at a cost of $ 205.25 and included:\n",
      "[[1 'Steak Burrito']\n",
      " [1 'Chicken Bowl']\n",
      " [1 'Chicken Bowl']\n",
      " [1 'Chicken Bowl']\n",
      " [1 'Steak Bowl']\n",
      " [1 'Chicken Bowl']\n",
      " [1 'Steak Burrito']\n",
      " [1 'Chicken Burrito']\n",
      " [1 'Chicken Bowl']\n",
      " [1 'Chicken Bowl']\n",
      " [1 'Chicken Salad Bowl']\n",
      " [1 'Steak Bowl']\n",
      " [1 'Chicken Burrito']\n",
      " [1 'Steak Bowl']\n",
      " [1 'Chicken Bowl']\n",
      " [1 'Steak Bowl']\n",
      " [1 'Chicken Burrito']\n",
      " [1 'Chicken Bowl']\n",
      " [1 'Chicken Bowl']\n",
      " [1 'Barbacoa Burrito']\n",
      " [1 'Chicken Burrito']\n",
      " [1 'Steak Bowl']\n",
      " [1 'Veggie Bowl']]\n"
     ]
    }
   ],
   "source": [
    "# Create a dictionary for grouped order_id and sum up the total price per order.\n",
    "order_dict = dict(chipolte.groupby('order_id')['item_price'].sum())\n",
    "\n",
    "minimum = min(order_dict, key=order_dict.get)  \n",
    "print('The least expensive order was #',minimum, 'at a cost of $',order_dict[minimum], 'and included:')\n",
    "print(chipolte.loc[chipolte['order_id']== minimum][['quantity','item_name']].values)\n",
    "print()\n",
    "maximum = max(order_dict, key=order_dict.get)  \n",
    "print('The most expensive order was #',maximum, 'at a cost of $',order_dict[maximum], 'and included:')\n",
    "print(chipolte.loc[chipolte['order_id']== maximum][['quantity','item_name']].values)"
   ]
  },
  {
   "cell_type": "code",
   "execution_count": null,
   "metadata": {},
   "outputs": [],
   "source": []
  }
 ],
 "metadata": {
  "anaconda-cloud": {},
  "kernelspec": {
   "display_name": "Python 3",
   "language": "python",
   "name": "python3"
  },
  "language_info": {
   "codemirror_mode": {
    "name": "ipython",
    "version": 3
   },
   "file_extension": ".py",
   "mimetype": "text/x-python",
   "name": "python",
   "nbconvert_exporter": "python",
   "pygments_lexer": "ipython3",
   "version": "3.7.3"
  }
 },
 "nbformat": 4,
 "nbformat_minor": 2
}
